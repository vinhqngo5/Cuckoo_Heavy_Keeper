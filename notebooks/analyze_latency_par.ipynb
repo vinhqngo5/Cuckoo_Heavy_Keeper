{
 "cells": [
  {
   "cell_type": "code",
   "execution_count": 8,
   "metadata": {},
   "outputs": [
    {
     "data": {
      "application/vnd.plotly.v1+json": {
       "config": {
        "plotlyServerURL": "https://plot.ly"
       },
       "data": [
        {
         "hovertemplate": "Threads: %{x}<br>Latency: %{y:.2f} μs<extra></extra>",
         "legendgroup": "Design=GLOBAL_HASHMAP, Query Rate=0.000000",
         "line": {
          "color": "#f44336",
          "dash": "solid"
         },
         "marker": {
          "color": "#f44336",
          "size": 10
         },
         "mode": "lines+markers",
         "name": "Design=GLOBAL_HASHMAP, Query Rate=0.000000",
         "showlegend": true,
         "type": "scatter",
         "x": [
          10,
          20,
          30,
          40,
          50,
          60,
          70
         ],
         "xaxis": "x",
         "y": [
          40.394549,
          46.589690000000004,
          37.14109,
          49.251203000000004,
          44.679582,
          44.252845,
          49.137682
         ],
         "yaxis": "y"
        },
        {
         "hovertemplate": "Threads: %{x}<br>Latency: %{y:.2f} μs<extra></extra>",
         "legendgroup": "Design=GLOBAL_HASHMAP, Query Rate=1.000000",
         "line": {
          "color": "#2196f3",
          "dash": "solid"
         },
         "marker": {
          "color": "#2196f3",
          "size": 10
         },
         "mode": "lines+markers",
         "name": "Design=GLOBAL_HASHMAP, Query Rate=1.000000",
         "showlegend": true,
         "type": "scatter",
         "x": [
          10,
          20,
          30,
          40,
          50,
          60,
          70
         ],
         "xaxis": "x",
         "y": [
          36.382767,
          36.834778,
          39.625302000000005,
          56.243652000000004,
          50.578991,
          48.098167000000004,
          49.408555
         ],
         "yaxis": "y"
        },
        {
         "hovertemplate": "Threads: %{x}<br>Latency: %{y:.2f} μs<extra></extra>",
         "legendgroup": "Design=GLOBAL_HASHMAP, Query Rate=10.000000",
         "line": {
          "color": "#4caf50",
          "dash": "solid"
         },
         "marker": {
          "color": "#4caf50",
          "size": 10
         },
         "mode": "lines+markers",
         "name": "Design=GLOBAL_HASHMAP, Query Rate=10.000000",
         "showlegend": true,
         "type": "scatter",
         "x": [
          10,
          20,
          30,
          40,
          50,
          60,
          70
         ],
         "xaxis": "x",
         "y": [
          36.817873,
          37.364464,
          68.909222,
          55.122659,
          62.423583,
          54.275102,
          72.938007
         ],
         "yaxis": "y"
        },
        {
         "hovertemplate": "Threads: %{x}<br>Latency: %{y:.2f} μs<extra></extra>",
         "legendgroup": "Design=QPOPSS, Query Rate=0.000000",
         "line": {
          "color": "#f44336",
          "dash": "dot"
         },
         "marker": {
          "color": "#f44336",
          "size": 10
         },
         "mode": "lines+markers",
         "name": "Design=QPOPSS, Query Rate=0.000000",
         "showlegend": true,
         "type": "scatter",
         "x": [
          10,
          20,
          30,
          40,
          50,
          60,
          70
         ],
         "xaxis": "x",
         "y": [
          80.982163,
          97.55388099999999,
          100.117005,
          131.22084,
          149.413959,
          172.228625,
          179.998346
         ],
         "yaxis": "y"
        },
        {
         "hovertemplate": "Threads: %{x}<br>Latency: %{y:.2f} μs<extra></extra>",
         "legendgroup": "Design=QPOPSS, Query Rate=1.000000",
         "line": {
          "color": "#2196f3",
          "dash": "dot"
         },
         "marker": {
          "color": "#2196f3",
          "size": 10
         },
         "mode": "lines+markers",
         "name": "Design=QPOPSS, Query Rate=1.000000",
         "showlegend": true,
         "type": "scatter",
         "x": [
          10,
          20,
          30,
          40,
          50,
          60,
          70
         ],
         "xaxis": "x",
         "y": [
          88.506952,
          111.350353,
          102.188119,
          161.932516,
          188.306881,
          198.432632,
          212.156744
         ],
         "yaxis": "y"
        },
        {
         "hovertemplate": "Threads: %{x}<br>Latency: %{y:.2f} μs<extra></extra>",
         "legendgroup": "Design=QPOPSS, Query Rate=10.000000",
         "line": {
          "color": "#4caf50",
          "dash": "dot"
         },
         "marker": {
          "color": "#4caf50",
          "size": 10
         },
         "mode": "lines+markers",
         "name": "Design=QPOPSS, Query Rate=10.000000",
         "showlegend": true,
         "type": "scatter",
         "x": [
          10,
          20,
          30,
          40,
          50,
          60,
          70
         ],
         "xaxis": "x",
         "y": [
          80.670986,
          117.001093,
          144.50276300000002,
          210.346812,
          223.88502499999998,
          248.354711,
          344.471112
         ],
         "yaxis": "y"
        }
       ],
       "layout": {
        "annotations": [
         {
          "font": {
           "size": 16
          },
          "showarrow": false,
          "text": "DIST_PARAM=1.500000, THETA=0.000050",
          "x": 0.5,
          "xanchor": "center",
          "xref": "paper",
          "y": 1,
          "yanchor": "bottom",
          "yref": "paper"
         }
        ],
        "height": 400,
        "legend": {
         "x": 1.01,
         "xanchor": "left",
         "y": 0.99,
         "yanchor": "top"
        },
        "showlegend": true,
        "template": {
         "data": {
          "bar": [
           {
            "error_x": {
             "color": "#2a3f5f"
            },
            "error_y": {
             "color": "#2a3f5f"
            },
            "marker": {
             "line": {
              "color": "white",
              "width": 0.5
             },
             "pattern": {
              "fillmode": "overlay",
              "size": 10,
              "solidity": 0.2
             }
            },
            "type": "bar"
           }
          ],
          "barpolar": [
           {
            "marker": {
             "line": {
              "color": "white",
              "width": 0.5
             },
             "pattern": {
              "fillmode": "overlay",
              "size": 10,
              "solidity": 0.2
             }
            },
            "type": "barpolar"
           }
          ],
          "carpet": [
           {
            "aaxis": {
             "endlinecolor": "#2a3f5f",
             "gridcolor": "#C8D4E3",
             "linecolor": "#C8D4E3",
             "minorgridcolor": "#C8D4E3",
             "startlinecolor": "#2a3f5f"
            },
            "baxis": {
             "endlinecolor": "#2a3f5f",
             "gridcolor": "#C8D4E3",
             "linecolor": "#C8D4E3",
             "minorgridcolor": "#C8D4E3",
             "startlinecolor": "#2a3f5f"
            },
            "type": "carpet"
           }
          ],
          "choropleth": [
           {
            "colorbar": {
             "outlinewidth": 0,
             "ticks": ""
            },
            "type": "choropleth"
           }
          ],
          "contour": [
           {
            "colorbar": {
             "outlinewidth": 0,
             "ticks": ""
            },
            "colorscale": [
             [
              0,
              "#0d0887"
             ],
             [
              0.1111111111111111,
              "#46039f"
             ],
             [
              0.2222222222222222,
              "#7201a8"
             ],
             [
              0.3333333333333333,
              "#9c179e"
             ],
             [
              0.4444444444444444,
              "#bd3786"
             ],
             [
              0.5555555555555556,
              "#d8576b"
             ],
             [
              0.6666666666666666,
              "#ed7953"
             ],
             [
              0.7777777777777778,
              "#fb9f3a"
             ],
             [
              0.8888888888888888,
              "#fdca26"
             ],
             [
              1,
              "#f0f921"
             ]
            ],
            "type": "contour"
           }
          ],
          "contourcarpet": [
           {
            "colorbar": {
             "outlinewidth": 0,
             "ticks": ""
            },
            "type": "contourcarpet"
           }
          ],
          "heatmap": [
           {
            "colorbar": {
             "outlinewidth": 0,
             "ticks": ""
            },
            "colorscale": [
             [
              0,
              "#0d0887"
             ],
             [
              0.1111111111111111,
              "#46039f"
             ],
             [
              0.2222222222222222,
              "#7201a8"
             ],
             [
              0.3333333333333333,
              "#9c179e"
             ],
             [
              0.4444444444444444,
              "#bd3786"
             ],
             [
              0.5555555555555556,
              "#d8576b"
             ],
             [
              0.6666666666666666,
              "#ed7953"
             ],
             [
              0.7777777777777778,
              "#fb9f3a"
             ],
             [
              0.8888888888888888,
              "#fdca26"
             ],
             [
              1,
              "#f0f921"
             ]
            ],
            "type": "heatmap"
           }
          ],
          "heatmapgl": [
           {
            "colorbar": {
             "outlinewidth": 0,
             "ticks": ""
            },
            "colorscale": [
             [
              0,
              "#0d0887"
             ],
             [
              0.1111111111111111,
              "#46039f"
             ],
             [
              0.2222222222222222,
              "#7201a8"
             ],
             [
              0.3333333333333333,
              "#9c179e"
             ],
             [
              0.4444444444444444,
              "#bd3786"
             ],
             [
              0.5555555555555556,
              "#d8576b"
             ],
             [
              0.6666666666666666,
              "#ed7953"
             ],
             [
              0.7777777777777778,
              "#fb9f3a"
             ],
             [
              0.8888888888888888,
              "#fdca26"
             ],
             [
              1,
              "#f0f921"
             ]
            ],
            "type": "heatmapgl"
           }
          ],
          "histogram": [
           {
            "marker": {
             "pattern": {
              "fillmode": "overlay",
              "size": 10,
              "solidity": 0.2
             }
            },
            "type": "histogram"
           }
          ],
          "histogram2d": [
           {
            "colorbar": {
             "outlinewidth": 0,
             "ticks": ""
            },
            "colorscale": [
             [
              0,
              "#0d0887"
             ],
             [
              0.1111111111111111,
              "#46039f"
             ],
             [
              0.2222222222222222,
              "#7201a8"
             ],
             [
              0.3333333333333333,
              "#9c179e"
             ],
             [
              0.4444444444444444,
              "#bd3786"
             ],
             [
              0.5555555555555556,
              "#d8576b"
             ],
             [
              0.6666666666666666,
              "#ed7953"
             ],
             [
              0.7777777777777778,
              "#fb9f3a"
             ],
             [
              0.8888888888888888,
              "#fdca26"
             ],
             [
              1,
              "#f0f921"
             ]
            ],
            "type": "histogram2d"
           }
          ],
          "histogram2dcontour": [
           {
            "colorbar": {
             "outlinewidth": 0,
             "ticks": ""
            },
            "colorscale": [
             [
              0,
              "#0d0887"
             ],
             [
              0.1111111111111111,
              "#46039f"
             ],
             [
              0.2222222222222222,
              "#7201a8"
             ],
             [
              0.3333333333333333,
              "#9c179e"
             ],
             [
              0.4444444444444444,
              "#bd3786"
             ],
             [
              0.5555555555555556,
              "#d8576b"
             ],
             [
              0.6666666666666666,
              "#ed7953"
             ],
             [
              0.7777777777777778,
              "#fb9f3a"
             ],
             [
              0.8888888888888888,
              "#fdca26"
             ],
             [
              1,
              "#f0f921"
             ]
            ],
            "type": "histogram2dcontour"
           }
          ],
          "mesh3d": [
           {
            "colorbar": {
             "outlinewidth": 0,
             "ticks": ""
            },
            "type": "mesh3d"
           }
          ],
          "parcoords": [
           {
            "line": {
             "colorbar": {
              "outlinewidth": 0,
              "ticks": ""
             }
            },
            "type": "parcoords"
           }
          ],
          "pie": [
           {
            "automargin": true,
            "type": "pie"
           }
          ],
          "scatter": [
           {
            "fillpattern": {
             "fillmode": "overlay",
             "size": 10,
             "solidity": 0.2
            },
            "type": "scatter"
           }
          ],
          "scatter3d": [
           {
            "line": {
             "colorbar": {
              "outlinewidth": 0,
              "ticks": ""
             }
            },
            "marker": {
             "colorbar": {
              "outlinewidth": 0,
              "ticks": ""
             }
            },
            "type": "scatter3d"
           }
          ],
          "scattercarpet": [
           {
            "marker": {
             "colorbar": {
              "outlinewidth": 0,
              "ticks": ""
             }
            },
            "type": "scattercarpet"
           }
          ],
          "scattergeo": [
           {
            "marker": {
             "colorbar": {
              "outlinewidth": 0,
              "ticks": ""
             }
            },
            "type": "scattergeo"
           }
          ],
          "scattergl": [
           {
            "marker": {
             "colorbar": {
              "outlinewidth": 0,
              "ticks": ""
             }
            },
            "type": "scattergl"
           }
          ],
          "scattermapbox": [
           {
            "marker": {
             "colorbar": {
              "outlinewidth": 0,
              "ticks": ""
             }
            },
            "type": "scattermapbox"
           }
          ],
          "scatterpolar": [
           {
            "marker": {
             "colorbar": {
              "outlinewidth": 0,
              "ticks": ""
             }
            },
            "type": "scatterpolar"
           }
          ],
          "scatterpolargl": [
           {
            "marker": {
             "colorbar": {
              "outlinewidth": 0,
              "ticks": ""
             }
            },
            "type": "scatterpolargl"
           }
          ],
          "scatterternary": [
           {
            "marker": {
             "colorbar": {
              "outlinewidth": 0,
              "ticks": ""
             }
            },
            "type": "scatterternary"
           }
          ],
          "surface": [
           {
            "colorbar": {
             "outlinewidth": 0,
             "ticks": ""
            },
            "colorscale": [
             [
              0,
              "#0d0887"
             ],
             [
              0.1111111111111111,
              "#46039f"
             ],
             [
              0.2222222222222222,
              "#7201a8"
             ],
             [
              0.3333333333333333,
              "#9c179e"
             ],
             [
              0.4444444444444444,
              "#bd3786"
             ],
             [
              0.5555555555555556,
              "#d8576b"
             ],
             [
              0.6666666666666666,
              "#ed7953"
             ],
             [
              0.7777777777777778,
              "#fb9f3a"
             ],
             [
              0.8888888888888888,
              "#fdca26"
             ],
             [
              1,
              "#f0f921"
             ]
            ],
            "type": "surface"
           }
          ],
          "table": [
           {
            "cells": {
             "fill": {
              "color": "#EBF0F8"
             },
             "line": {
              "color": "white"
             }
            },
            "header": {
             "fill": {
              "color": "#C8D4E3"
             },
             "line": {
              "color": "white"
             }
            },
            "type": "table"
           }
          ]
         },
         "layout": {
          "annotationdefaults": {
           "arrowcolor": "#2a3f5f",
           "arrowhead": 0,
           "arrowwidth": 1
          },
          "autotypenumbers": "strict",
          "coloraxis": {
           "colorbar": {
            "outlinewidth": 0,
            "ticks": ""
           }
          },
          "colorscale": {
           "diverging": [
            [
             0,
             "#8e0152"
            ],
            [
             0.1,
             "#c51b7d"
            ],
            [
             0.2,
             "#de77ae"
            ],
            [
             0.3,
             "#f1b6da"
            ],
            [
             0.4,
             "#fde0ef"
            ],
            [
             0.5,
             "#f7f7f7"
            ],
            [
             0.6,
             "#e6f5d0"
            ],
            [
             0.7,
             "#b8e186"
            ],
            [
             0.8,
             "#7fbc41"
            ],
            [
             0.9,
             "#4d9221"
            ],
            [
             1,
             "#276419"
            ]
           ],
           "sequential": [
            [
             0,
             "#0d0887"
            ],
            [
             0.1111111111111111,
             "#46039f"
            ],
            [
             0.2222222222222222,
             "#7201a8"
            ],
            [
             0.3333333333333333,
             "#9c179e"
            ],
            [
             0.4444444444444444,
             "#bd3786"
            ],
            [
             0.5555555555555556,
             "#d8576b"
            ],
            [
             0.6666666666666666,
             "#ed7953"
            ],
            [
             0.7777777777777778,
             "#fb9f3a"
            ],
            [
             0.8888888888888888,
             "#fdca26"
            ],
            [
             1,
             "#f0f921"
            ]
           ],
           "sequentialminus": [
            [
             0,
             "#0d0887"
            ],
            [
             0.1111111111111111,
             "#46039f"
            ],
            [
             0.2222222222222222,
             "#7201a8"
            ],
            [
             0.3333333333333333,
             "#9c179e"
            ],
            [
             0.4444444444444444,
             "#bd3786"
            ],
            [
             0.5555555555555556,
             "#d8576b"
            ],
            [
             0.6666666666666666,
             "#ed7953"
            ],
            [
             0.7777777777777778,
             "#fb9f3a"
            ],
            [
             0.8888888888888888,
             "#fdca26"
            ],
            [
             1,
             "#f0f921"
            ]
           ]
          },
          "colorway": [
           "#636efa",
           "#EF553B",
           "#00cc96",
           "#ab63fa",
           "#FFA15A",
           "#19d3f3",
           "#FF6692",
           "#B6E880",
           "#FF97FF",
           "#FECB52"
          ],
          "font": {
           "color": "#2a3f5f"
          },
          "geo": {
           "bgcolor": "white",
           "lakecolor": "white",
           "landcolor": "white",
           "showlakes": true,
           "showland": true,
           "subunitcolor": "#C8D4E3"
          },
          "hoverlabel": {
           "align": "left"
          },
          "hovermode": "closest",
          "mapbox": {
           "style": "light"
          },
          "paper_bgcolor": "white",
          "plot_bgcolor": "white",
          "polar": {
           "angularaxis": {
            "gridcolor": "#EBF0F8",
            "linecolor": "#EBF0F8",
            "ticks": ""
           },
           "bgcolor": "white",
           "radialaxis": {
            "gridcolor": "#EBF0F8",
            "linecolor": "#EBF0F8",
            "ticks": ""
           }
          },
          "scene": {
           "xaxis": {
            "backgroundcolor": "white",
            "gridcolor": "#DFE8F3",
            "gridwidth": 2,
            "linecolor": "#EBF0F8",
            "showbackground": true,
            "ticks": "",
            "zerolinecolor": "#EBF0F8"
           },
           "yaxis": {
            "backgroundcolor": "white",
            "gridcolor": "#DFE8F3",
            "gridwidth": 2,
            "linecolor": "#EBF0F8",
            "showbackground": true,
            "ticks": "",
            "zerolinecolor": "#EBF0F8"
           },
           "zaxis": {
            "backgroundcolor": "white",
            "gridcolor": "#DFE8F3",
            "gridwidth": 2,
            "linecolor": "#EBF0F8",
            "showbackground": true,
            "ticks": "",
            "zerolinecolor": "#EBF0F8"
           }
          },
          "shapedefaults": {
           "line": {
            "color": "#2a3f5f"
           }
          },
          "ternary": {
           "aaxis": {
            "gridcolor": "#DFE8F3",
            "linecolor": "#A2B1C6",
            "ticks": ""
           },
           "baxis": {
            "gridcolor": "#DFE8F3",
            "linecolor": "#A2B1C6",
            "ticks": ""
           },
           "bgcolor": "white",
           "caxis": {
            "gridcolor": "#DFE8F3",
            "linecolor": "#A2B1C6",
            "ticks": ""
           }
          },
          "title": {
           "x": 0.05
          },
          "xaxis": {
           "automargin": true,
           "gridcolor": "#EBF0F8",
           "linecolor": "#EBF0F8",
           "ticks": "",
           "title": {
            "standoff": 15
           },
           "zerolinecolor": "#EBF0F8",
           "zerolinewidth": 2
          },
          "yaxis": {
           "automargin": true,
           "gridcolor": "#EBF0F8",
           "linecolor": "#EBF0F8",
           "ticks": "",
           "title": {
            "standoff": 15
           },
           "zerolinecolor": "#EBF0F8",
           "zerolinewidth": 2
          }
         }
        },
        "title": {
         "text": "Latency Analysis"
        },
        "xaxis": {
         "anchor": "y",
         "domain": [
          0,
          1
         ],
         "tickmode": "array",
         "tickvals": [
          10,
          20,
          30,
          40,
          50,
          60,
          70
         ],
         "title": {
          "text": "Number of Threads"
         }
        },
        "yaxis": {
         "anchor": "x",
         "domain": [
          0,
          1
         ],
         "rangemode": "tozero",
         "tickformat": ".0f",
         "title": {
          "text": "Latency (μs)"
         }
        }
       }
      },
      "text/html": [
       "<div>                            <div id=\"8d35b096-00b8-422b-b26a-bef44b5c2a39\" class=\"plotly-graph-div\" style=\"height:400px; width:100%;\"></div>            <script type=\"text/javascript\">                require([\"plotly\"], function(Plotly) {                    window.PLOTLYENV=window.PLOTLYENV || {};                                    if (document.getElementById(\"8d35b096-00b8-422b-b26a-bef44b5c2a39\")) {                    Plotly.newPlot(                        \"8d35b096-00b8-422b-b26a-bef44b5c2a39\",                        [{\"hovertemplate\":\"Threads: %{x}\\u003cbr\\u003eLatency: %{y:.2f} \\u03bcs\\u003cextra\\u003e\\u003c\\u002fextra\\u003e\",\"legendgroup\":\"Design=GLOBAL_HASHMAP, Query Rate=0.000000\",\"line\":{\"color\":\"#f44336\",\"dash\":\"solid\"},\"marker\":{\"color\":\"#f44336\",\"size\":10},\"mode\":\"lines+markers\",\"name\":\"Design=GLOBAL_HASHMAP, Query Rate=0.000000\",\"showlegend\":true,\"x\":[10,20,30,40,50,60,70],\"y\":[40.394549,46.589690000000004,37.14109,49.251203000000004,44.679582,44.252845,49.137682],\"type\":\"scatter\",\"xaxis\":\"x\",\"yaxis\":\"y\"},{\"hovertemplate\":\"Threads: %{x}\\u003cbr\\u003eLatency: %{y:.2f} \\u03bcs\\u003cextra\\u003e\\u003c\\u002fextra\\u003e\",\"legendgroup\":\"Design=GLOBAL_HASHMAP, Query Rate=1.000000\",\"line\":{\"color\":\"#2196f3\",\"dash\":\"solid\"},\"marker\":{\"color\":\"#2196f3\",\"size\":10},\"mode\":\"lines+markers\",\"name\":\"Design=GLOBAL_HASHMAP, Query Rate=1.000000\",\"showlegend\":true,\"x\":[10,20,30,40,50,60,70],\"y\":[36.382767,36.834778,39.625302000000005,56.243652000000004,50.578991,48.098167000000004,49.408555],\"type\":\"scatter\",\"xaxis\":\"x\",\"yaxis\":\"y\"},{\"hovertemplate\":\"Threads: %{x}\\u003cbr\\u003eLatency: %{y:.2f} \\u03bcs\\u003cextra\\u003e\\u003c\\u002fextra\\u003e\",\"legendgroup\":\"Design=GLOBAL_HASHMAP, Query Rate=10.000000\",\"line\":{\"color\":\"#4caf50\",\"dash\":\"solid\"},\"marker\":{\"color\":\"#4caf50\",\"size\":10},\"mode\":\"lines+markers\",\"name\":\"Design=GLOBAL_HASHMAP, Query Rate=10.000000\",\"showlegend\":true,\"x\":[10,20,30,40,50,60,70],\"y\":[36.817873,37.364464,68.909222,55.122659,62.423583,54.275102,72.938007],\"type\":\"scatter\",\"xaxis\":\"x\",\"yaxis\":\"y\"},{\"hovertemplate\":\"Threads: %{x}\\u003cbr\\u003eLatency: %{y:.2f} \\u03bcs\\u003cextra\\u003e\\u003c\\u002fextra\\u003e\",\"legendgroup\":\"Design=QPOPSS, Query Rate=0.000000\",\"line\":{\"color\":\"#f44336\",\"dash\":\"dot\"},\"marker\":{\"color\":\"#f44336\",\"size\":10},\"mode\":\"lines+markers\",\"name\":\"Design=QPOPSS, Query Rate=0.000000\",\"showlegend\":true,\"x\":[10,20,30,40,50,60,70],\"y\":[80.982163,97.55388099999999,100.117005,131.22084,149.413959,172.228625,179.998346],\"type\":\"scatter\",\"xaxis\":\"x\",\"yaxis\":\"y\"},{\"hovertemplate\":\"Threads: %{x}\\u003cbr\\u003eLatency: %{y:.2f} \\u03bcs\\u003cextra\\u003e\\u003c\\u002fextra\\u003e\",\"legendgroup\":\"Design=QPOPSS, Query Rate=1.000000\",\"line\":{\"color\":\"#2196f3\",\"dash\":\"dot\"},\"marker\":{\"color\":\"#2196f3\",\"size\":10},\"mode\":\"lines+markers\",\"name\":\"Design=QPOPSS, Query Rate=1.000000\",\"showlegend\":true,\"x\":[10,20,30,40,50,60,70],\"y\":[88.506952,111.350353,102.188119,161.932516,188.306881,198.432632,212.156744],\"type\":\"scatter\",\"xaxis\":\"x\",\"yaxis\":\"y\"},{\"hovertemplate\":\"Threads: %{x}\\u003cbr\\u003eLatency: %{y:.2f} \\u03bcs\\u003cextra\\u003e\\u003c\\u002fextra\\u003e\",\"legendgroup\":\"Design=QPOPSS, Query Rate=10.000000\",\"line\":{\"color\":\"#4caf50\",\"dash\":\"dot\"},\"marker\":{\"color\":\"#4caf50\",\"size\":10},\"mode\":\"lines+markers\",\"name\":\"Design=QPOPSS, Query Rate=10.000000\",\"showlegend\":true,\"x\":[10,20,30,40,50,60,70],\"y\":[80.670986,117.001093,144.50276300000002,210.346812,223.88502499999998,248.354711,344.471112],\"type\":\"scatter\",\"xaxis\":\"x\",\"yaxis\":\"y\"}],                        {\"template\":{\"data\":{\"barpolar\":[{\"marker\":{\"line\":{\"color\":\"white\",\"width\":0.5},\"pattern\":{\"fillmode\":\"overlay\",\"size\":10,\"solidity\":0.2}},\"type\":\"barpolar\"}],\"bar\":[{\"error_x\":{\"color\":\"#2a3f5f\"},\"error_y\":{\"color\":\"#2a3f5f\"},\"marker\":{\"line\":{\"color\":\"white\",\"width\":0.5},\"pattern\":{\"fillmode\":\"overlay\",\"size\":10,\"solidity\":0.2}},\"type\":\"bar\"}],\"carpet\":[{\"aaxis\":{\"endlinecolor\":\"#2a3f5f\",\"gridcolor\":\"#C8D4E3\",\"linecolor\":\"#C8D4E3\",\"minorgridcolor\":\"#C8D4E3\",\"startlinecolor\":\"#2a3f5f\"},\"baxis\":{\"endlinecolor\":\"#2a3f5f\",\"gridcolor\":\"#C8D4E3\",\"linecolor\":\"#C8D4E3\",\"minorgridcolor\":\"#C8D4E3\",\"startlinecolor\":\"#2a3f5f\"},\"type\":\"carpet\"}],\"choropleth\":[{\"colorbar\":{\"outlinewidth\":0,\"ticks\":\"\"},\"type\":\"choropleth\"}],\"contourcarpet\":[{\"colorbar\":{\"outlinewidth\":0,\"ticks\":\"\"},\"type\":\"contourcarpet\"}],\"contour\":[{\"colorbar\":{\"outlinewidth\":0,\"ticks\":\"\"},\"colorscale\":[[0.0,\"#0d0887\"],[0.1111111111111111,\"#46039f\"],[0.2222222222222222,\"#7201a8\"],[0.3333333333333333,\"#9c179e\"],[0.4444444444444444,\"#bd3786\"],[0.5555555555555556,\"#d8576b\"],[0.6666666666666666,\"#ed7953\"],[0.7777777777777778,\"#fb9f3a\"],[0.8888888888888888,\"#fdca26\"],[1.0,\"#f0f921\"]],\"type\":\"contour\"}],\"heatmapgl\":[{\"colorbar\":{\"outlinewidth\":0,\"ticks\":\"\"},\"colorscale\":[[0.0,\"#0d0887\"],[0.1111111111111111,\"#46039f\"],[0.2222222222222222,\"#7201a8\"],[0.3333333333333333,\"#9c179e\"],[0.4444444444444444,\"#bd3786\"],[0.5555555555555556,\"#d8576b\"],[0.6666666666666666,\"#ed7953\"],[0.7777777777777778,\"#fb9f3a\"],[0.8888888888888888,\"#fdca26\"],[1.0,\"#f0f921\"]],\"type\":\"heatmapgl\"}],\"heatmap\":[{\"colorbar\":{\"outlinewidth\":0,\"ticks\":\"\"},\"colorscale\":[[0.0,\"#0d0887\"],[0.1111111111111111,\"#46039f\"],[0.2222222222222222,\"#7201a8\"],[0.3333333333333333,\"#9c179e\"],[0.4444444444444444,\"#bd3786\"],[0.5555555555555556,\"#d8576b\"],[0.6666666666666666,\"#ed7953\"],[0.7777777777777778,\"#fb9f3a\"],[0.8888888888888888,\"#fdca26\"],[1.0,\"#f0f921\"]],\"type\":\"heatmap\"}],\"histogram2dcontour\":[{\"colorbar\":{\"outlinewidth\":0,\"ticks\":\"\"},\"colorscale\":[[0.0,\"#0d0887\"],[0.1111111111111111,\"#46039f\"],[0.2222222222222222,\"#7201a8\"],[0.3333333333333333,\"#9c179e\"],[0.4444444444444444,\"#bd3786\"],[0.5555555555555556,\"#d8576b\"],[0.6666666666666666,\"#ed7953\"],[0.7777777777777778,\"#fb9f3a\"],[0.8888888888888888,\"#fdca26\"],[1.0,\"#f0f921\"]],\"type\":\"histogram2dcontour\"}],\"histogram2d\":[{\"colorbar\":{\"outlinewidth\":0,\"ticks\":\"\"},\"colorscale\":[[0.0,\"#0d0887\"],[0.1111111111111111,\"#46039f\"],[0.2222222222222222,\"#7201a8\"],[0.3333333333333333,\"#9c179e\"],[0.4444444444444444,\"#bd3786\"],[0.5555555555555556,\"#d8576b\"],[0.6666666666666666,\"#ed7953\"],[0.7777777777777778,\"#fb9f3a\"],[0.8888888888888888,\"#fdca26\"],[1.0,\"#f0f921\"]],\"type\":\"histogram2d\"}],\"histogram\":[{\"marker\":{\"pattern\":{\"fillmode\":\"overlay\",\"size\":10,\"solidity\":0.2}},\"type\":\"histogram\"}],\"mesh3d\":[{\"colorbar\":{\"outlinewidth\":0,\"ticks\":\"\"},\"type\":\"mesh3d\"}],\"parcoords\":[{\"line\":{\"colorbar\":{\"outlinewidth\":0,\"ticks\":\"\"}},\"type\":\"parcoords\"}],\"pie\":[{\"automargin\":true,\"type\":\"pie\"}],\"scatter3d\":[{\"line\":{\"colorbar\":{\"outlinewidth\":0,\"ticks\":\"\"}},\"marker\":{\"colorbar\":{\"outlinewidth\":0,\"ticks\":\"\"}},\"type\":\"scatter3d\"}],\"scattercarpet\":[{\"marker\":{\"colorbar\":{\"outlinewidth\":0,\"ticks\":\"\"}},\"type\":\"scattercarpet\"}],\"scattergeo\":[{\"marker\":{\"colorbar\":{\"outlinewidth\":0,\"ticks\":\"\"}},\"type\":\"scattergeo\"}],\"scattergl\":[{\"marker\":{\"colorbar\":{\"outlinewidth\":0,\"ticks\":\"\"}},\"type\":\"scattergl\"}],\"scattermapbox\":[{\"marker\":{\"colorbar\":{\"outlinewidth\":0,\"ticks\":\"\"}},\"type\":\"scattermapbox\"}],\"scatterpolargl\":[{\"marker\":{\"colorbar\":{\"outlinewidth\":0,\"ticks\":\"\"}},\"type\":\"scatterpolargl\"}],\"scatterpolar\":[{\"marker\":{\"colorbar\":{\"outlinewidth\":0,\"ticks\":\"\"}},\"type\":\"scatterpolar\"}],\"scatter\":[{\"fillpattern\":{\"fillmode\":\"overlay\",\"size\":10,\"solidity\":0.2},\"type\":\"scatter\"}],\"scatterternary\":[{\"marker\":{\"colorbar\":{\"outlinewidth\":0,\"ticks\":\"\"}},\"type\":\"scatterternary\"}],\"surface\":[{\"colorbar\":{\"outlinewidth\":0,\"ticks\":\"\"},\"colorscale\":[[0.0,\"#0d0887\"],[0.1111111111111111,\"#46039f\"],[0.2222222222222222,\"#7201a8\"],[0.3333333333333333,\"#9c179e\"],[0.4444444444444444,\"#bd3786\"],[0.5555555555555556,\"#d8576b\"],[0.6666666666666666,\"#ed7953\"],[0.7777777777777778,\"#fb9f3a\"],[0.8888888888888888,\"#fdca26\"],[1.0,\"#f0f921\"]],\"type\":\"surface\"}],\"table\":[{\"cells\":{\"fill\":{\"color\":\"#EBF0F8\"},\"line\":{\"color\":\"white\"}},\"header\":{\"fill\":{\"color\":\"#C8D4E3\"},\"line\":{\"color\":\"white\"}},\"type\":\"table\"}]},\"layout\":{\"annotationdefaults\":{\"arrowcolor\":\"#2a3f5f\",\"arrowhead\":0,\"arrowwidth\":1},\"autotypenumbers\":\"strict\",\"coloraxis\":{\"colorbar\":{\"outlinewidth\":0,\"ticks\":\"\"}},\"colorscale\":{\"diverging\":[[0,\"#8e0152\"],[0.1,\"#c51b7d\"],[0.2,\"#de77ae\"],[0.3,\"#f1b6da\"],[0.4,\"#fde0ef\"],[0.5,\"#f7f7f7\"],[0.6,\"#e6f5d0\"],[0.7,\"#b8e186\"],[0.8,\"#7fbc41\"],[0.9,\"#4d9221\"],[1,\"#276419\"]],\"sequential\":[[0.0,\"#0d0887\"],[0.1111111111111111,\"#46039f\"],[0.2222222222222222,\"#7201a8\"],[0.3333333333333333,\"#9c179e\"],[0.4444444444444444,\"#bd3786\"],[0.5555555555555556,\"#d8576b\"],[0.6666666666666666,\"#ed7953\"],[0.7777777777777778,\"#fb9f3a\"],[0.8888888888888888,\"#fdca26\"],[1.0,\"#f0f921\"]],\"sequentialminus\":[[0.0,\"#0d0887\"],[0.1111111111111111,\"#46039f\"],[0.2222222222222222,\"#7201a8\"],[0.3333333333333333,\"#9c179e\"],[0.4444444444444444,\"#bd3786\"],[0.5555555555555556,\"#d8576b\"],[0.6666666666666666,\"#ed7953\"],[0.7777777777777778,\"#fb9f3a\"],[0.8888888888888888,\"#fdca26\"],[1.0,\"#f0f921\"]]},\"colorway\":[\"#636efa\",\"#EF553B\",\"#00cc96\",\"#ab63fa\",\"#FFA15A\",\"#19d3f3\",\"#FF6692\",\"#B6E880\",\"#FF97FF\",\"#FECB52\"],\"font\":{\"color\":\"#2a3f5f\"},\"geo\":{\"bgcolor\":\"white\",\"lakecolor\":\"white\",\"landcolor\":\"white\",\"showlakes\":true,\"showland\":true,\"subunitcolor\":\"#C8D4E3\"},\"hoverlabel\":{\"align\":\"left\"},\"hovermode\":\"closest\",\"mapbox\":{\"style\":\"light\"},\"paper_bgcolor\":\"white\",\"plot_bgcolor\":\"white\",\"polar\":{\"angularaxis\":{\"gridcolor\":\"#EBF0F8\",\"linecolor\":\"#EBF0F8\",\"ticks\":\"\"},\"bgcolor\":\"white\",\"radialaxis\":{\"gridcolor\":\"#EBF0F8\",\"linecolor\":\"#EBF0F8\",\"ticks\":\"\"}},\"scene\":{\"xaxis\":{\"backgroundcolor\":\"white\",\"gridcolor\":\"#DFE8F3\",\"gridwidth\":2,\"linecolor\":\"#EBF0F8\",\"showbackground\":true,\"ticks\":\"\",\"zerolinecolor\":\"#EBF0F8\"},\"yaxis\":{\"backgroundcolor\":\"white\",\"gridcolor\":\"#DFE8F3\",\"gridwidth\":2,\"linecolor\":\"#EBF0F8\",\"showbackground\":true,\"ticks\":\"\",\"zerolinecolor\":\"#EBF0F8\"},\"zaxis\":{\"backgroundcolor\":\"white\",\"gridcolor\":\"#DFE8F3\",\"gridwidth\":2,\"linecolor\":\"#EBF0F8\",\"showbackground\":true,\"ticks\":\"\",\"zerolinecolor\":\"#EBF0F8\"}},\"shapedefaults\":{\"line\":{\"color\":\"#2a3f5f\"}},\"ternary\":{\"aaxis\":{\"gridcolor\":\"#DFE8F3\",\"linecolor\":\"#A2B1C6\",\"ticks\":\"\"},\"baxis\":{\"gridcolor\":\"#DFE8F3\",\"linecolor\":\"#A2B1C6\",\"ticks\":\"\"},\"bgcolor\":\"white\",\"caxis\":{\"gridcolor\":\"#DFE8F3\",\"linecolor\":\"#A2B1C6\",\"ticks\":\"\"}},\"title\":{\"x\":0.05},\"xaxis\":{\"automargin\":true,\"gridcolor\":\"#EBF0F8\",\"linecolor\":\"#EBF0F8\",\"ticks\":\"\",\"title\":{\"standoff\":15},\"zerolinecolor\":\"#EBF0F8\",\"zerolinewidth\":2},\"yaxis\":{\"automargin\":true,\"gridcolor\":\"#EBF0F8\",\"linecolor\":\"#EBF0F8\",\"ticks\":\"\",\"title\":{\"standoff\":15},\"zerolinecolor\":\"#EBF0F8\",\"zerolinewidth\":2}}},\"xaxis\":{\"anchor\":\"y\",\"domain\":[0.0,1.0],\"title\":{\"text\":\"Number of Threads\"},\"tickmode\":\"array\",\"tickvals\":[10,20,30,40,50,60,70]},\"yaxis\":{\"anchor\":\"x\",\"domain\":[0.0,1.0],\"title\":{\"text\":\"Latency (\\u03bcs)\"},\"rangemode\":\"tozero\",\"tickformat\":\".0f\"},\"annotations\":[{\"font\":{\"size\":16},\"showarrow\":false,\"text\":\"DIST_PARAM=1.500000, THETA=0.000050\",\"x\":0.5,\"xanchor\":\"center\",\"xref\":\"paper\",\"y\":1.0,\"yanchor\":\"bottom\",\"yref\":\"paper\"}],\"title\":{\"text\":\"Latency Analysis\"},\"legend\":{\"yanchor\":\"top\",\"y\":0.99,\"xanchor\":\"left\",\"x\":1.01},\"height\":400,\"showlegend\":true},                        {\"responsive\": true}                    ).then(function(){\n",
       "                            \n",
       "var gd = document.getElementById('8d35b096-00b8-422b-b26a-bef44b5c2a39');\n",
       "var x = new MutationObserver(function (mutations, observer) {{\n",
       "        var display = window.getComputedStyle(gd).display;\n",
       "        if (!display || display === 'none') {{\n",
       "            console.log([gd, 'removed!']);\n",
       "            Plotly.purge(gd);\n",
       "            observer.disconnect();\n",
       "        }}\n",
       "}});\n",
       "\n",
       "// Listen for the removal of the full notebook cells\n",
       "var notebookContainer = gd.closest('#notebook-container');\n",
       "if (notebookContainer) {{\n",
       "    x.observe(notebookContainer, {childList: true});\n",
       "}}\n",
       "\n",
       "// Listen for the clearing of the current output cell\n",
       "var outputEl = gd.closest('.output');\n",
       "if (outputEl) {{\n",
       "    x.observe(outputEl, {childList: true});\n",
       "}}\n",
       "\n",
       "                        })                };                });            </script>        </div>"
      ]
     },
     "metadata": {},
     "output_type": "display_data"
    }
   ],
   "source": [
    "import os\n",
    "import re\n",
    "import pandas as pd\n",
    "import plotly.graph_objects as go\n",
    "from plotly.subplots import make_subplots\n",
    "from typing import List, Dict, Set, Any\n",
    "import json\n",
    "\n",
    "def load_material_colors(filepath='material-colors.json'):\n",
    "    \"\"\"Load material design colors from JSON file.\"\"\"\n",
    "    with open(filepath, 'r') as f:\n",
    "        colors = json.load(f)\n",
    "    return colors\n",
    "\n",
    "class LatencyExperimentAnalyzer:\n",
    "    def __init__(self, base_path: str, fixed_params: Dict[str, Set[str]], subplot_params: List[str]):\n",
    "        self.base_path = base_path\n",
    "        self.fixed_params = fixed_params\n",
    "        self.subplot_params = subplot_params\n",
    "        self.varying_params = [\n",
    "            'PARALLEL_DESIGN',\n",
    "            'HEAVY_QUERY_RATE'\n",
    "        ]\n",
    "        \n",
    "        # Load colors once at initialization\n",
    "        with open('/home/vinh/Q32024/CuckooHeavyKeeper/notebooks/material-colors.json') as f:\n",
    "            self.material_colors = json.load(f)\n",
    "\n",
    "    def get_design_style(self, design: str, query_rate: str) -> dict:\n",
    "        \"\"\"Returns color by query rate and line pattern by design\"\"\"\n",
    "        query_colors = {\n",
    "            '0.000000': 'red',\n",
    "            '1.000000': 'blue',\n",
    "            '5.000000': 'yellow',\n",
    "            '10.000000': 'green'\n",
    "        }\n",
    "        \n",
    "        design_patterns = {\n",
    "            'GLOBAL_HASHMAP': 'solid',\n",
    "            'QPOPSS': 'dot'\n",
    "        }\n",
    "        \n",
    "        return {\n",
    "            'color': self.material_colors[query_colors[query_rate]]['500'],\n",
    "            'dash': design_patterns[design]\n",
    "        }\n",
    "        \n",
    "    def parse_experiment_path(self, path: str) -> Dict[str, Any]:\n",
    "        \"\"\"Extract experiment parameters from path.\"\"\"\n",
    "        params = {}\n",
    "        parts = path.split(os.sep)\n",
    "        for part in parts:\n",
    "            if '=' in part:\n",
    "                key, value = part.split('=')\n",
    "                params[key] = value\n",
    "        return params\n",
    "\n",
    "    def extract_latency(self, file_content: str) -> float:\n",
    "        \"\"\"Extract average latency value from file content.\"\"\"\n",
    "        pattern = r\"Raw latencies \\(ns\\): ([\\d,]+)\"\n",
    "        match = re.search(pattern, file_content)\n",
    "        if match:\n",
    "            latencies = [int(x) for x in match.group(1).split(',')]\n",
    "            return sum(latencies) / len(latencies) / 1000  # Convert to microseconds\n",
    "        return 0.0\n",
    "\n",
    "    def read_latency_file(self, folder_path: str) -> float:\n",
    "        \"\"\"Read heavyhitter file and extract latency value.\"\"\"\n",
    "        for filename in os.listdir(folder_path):\n",
    "            if filename.endswith('_heavyhitter.json'):\n",
    "                file_path = os.path.join(folder_path, filename)\n",
    "                with open(file_path, 'r') as f:\n",
    "                    content = f.read()\n",
    "                    return self.extract_latency(content)\n",
    "        return 0.0\n",
    "\n",
    "    def matches_fixed_params(self, params: Dict[str, str]) -> bool:\n",
    "        \"\"\"Check if experiment parameters match the fixed parameters.\"\"\"\n",
    "        for key, values in self.fixed_params.items():\n",
    "            if key in params and params[key] not in values:\n",
    "                return False\n",
    "        return True\n",
    "\n",
    "    def analyze_latency_experiments(self) -> List[Dict[str, Any]]:\n",
    "        \"\"\"Analyze all experiments and prepare visualization data.\"\"\"\n",
    "        results = []\n",
    "        \n",
    "        for root, dirs, files in os.walk(self.base_path):\n",
    "            if any(f.endswith('_heavyhitter.json') for f in files):\n",
    "                params = self.parse_experiment_path(root)\n",
    "                \n",
    "                if not self.matches_fixed_params(params):\n",
    "                    continue\n",
    "                latency = self.read_latency_file(root)\n",
    "                if latency > 0:\n",
    "                    params['latency'] = latency\n",
    "                    results.append(params)\n",
    "        \n",
    "        return results\n",
    "\n",
    "    def create_latency_visualization(self, results: List[Dict[str, Any]]) -> go.Figure:\n",
    "        \"\"\"Create line chart visualization.\"\"\"\n",
    "        grouped_results = {}\n",
    "        for result in results:\n",
    "            key_params = tuple(\n",
    "                (k, v) for k, v in result.items()\n",
    "                if k in self.subplot_params\n",
    "            )\n",
    "            group_key = frozenset(key_params)\n",
    "            if group_key not in grouped_results:\n",
    "                grouped_results[group_key] = []\n",
    "            grouped_results[group_key].append(result)\n",
    "\n",
    "        fig = make_subplots(\n",
    "            rows=len(grouped_results),\n",
    "            cols=1,\n",
    "            subplot_titles=[', '.join(f\"{k}={v}\" for k, v in dict(key).items())\n",
    "                          for key in grouped_results.keys()],\n",
    "            vertical_spacing=0.1\n",
    "        )\n",
    "\n",
    "        row = 1\n",
    "        for group_key, group_results in grouped_results.items():\n",
    "            design_rate_groups = {}\n",
    "            \n",
    "            for result in group_results:\n",
    "                combo = (result['PARARLLEL_DESIGN'], result['HEAVY_QUERY_RATE'])\n",
    "                if combo not in design_rate_groups:\n",
    "                    design_rate_groups[combo] = []\n",
    "                design_rate_groups[combo].append(result)\n",
    "\n",
    "            for combo, combo_results in design_rate_groups.items():\n",
    "                sorted_results = sorted(combo_results, key=lambda x: int(x['NUM_THREADS']))\n",
    "                \n",
    "                x_values = [int(r['NUM_THREADS']) for r in sorted_results]\n",
    "                y_values = [r['latency'] for r in sorted_results]\n",
    "                \n",
    "                name = f\"Design={combo[0]}, Query Rate={combo[1]}\"\n",
    "                \n",
    "                style = self.get_design_style(\n",
    "                    design=combo[0],\n",
    "                    query_rate=combo[1]\n",
    "                )\n",
    "                \n",
    "                fig.add_trace(\n",
    "                    go.Scatter(\n",
    "                        x=x_values,\n",
    "                        y=y_values,\n",
    "                        name=name,\n",
    "                        mode='lines+markers',\n",
    "                        line=dict(\n",
    "                            color=style['color'],\n",
    "                            dash=style['dash']\n",
    "                        ),\n",
    "                        marker=dict(\n",
    "                            size=10,\n",
    "                            color=style['color']\n",
    "                        ),\n",
    "                        legendgroup=name,\n",
    "                        showlegend=(row == 1),\n",
    "                        hovertemplate=\"Threads: %{x}<br>Latency: %{y:.2f} μs<extra></extra>\"\n",
    "                    ),\n",
    "                    row=row,\n",
    "                    col=1\n",
    "                )\n",
    "            \n",
    "            row += 1\n",
    "\n",
    "        fig.update_layout(\n",
    "            height=400 * len(grouped_results),\n",
    "            title_text=\"Latency Analysis\",\n",
    "            showlegend=True,\n",
    "            template=\"plotly_white\",\n",
    "            legend=dict(\n",
    "                yanchor=\"top\",\n",
    "                y=0.99,\n",
    "                xanchor=\"left\",\n",
    "                x=1.01\n",
    "            )\n",
    "        )\n",
    "        \n",
    "        for i in range(len(grouped_results)):\n",
    "            fig.update_xaxes(\n",
    "                title_text=\"Number of Threads\",\n",
    "                row=i+1,\n",
    "                col=1,\n",
    "                tickmode='array',\n",
    "                tickvals=sorted([int(x) for x in self.fixed_params['NUM_THREADS']])\n",
    "            )\n",
    "            fig.update_yaxes(\n",
    "                title_text=\"Latency (μs)\",\n",
    "                row=i+1,\n",
    "                col=1,\n",
    "                rangemode='tozero',\n",
    "                tickformat='.0f'\n",
    "            )\n",
    "\n",
    "        return fig\n",
    "\n",
    "# Example usage\n",
    "fixed_params = {\n",
    "    'DIST_PARAM': {'1.500000'},\n",
    "    'NUM_THREADS': {'10', '20', '30', '40', '50', '60', '70'},\n",
    "    'THETA': {'0.000050'},\n",
    "    'PARALLEL_DESIGN': {'GLOBAL_HASHMAP', 'QPOPSS'},\n",
    "    'HEAVY_QUERY_RATE': {'0.000000', '1.000000', '10.000000'}\n",
    "}\n",
    "\n",
    "subplot_params = ['DIST_PARAM', 'THETA', 'DIST_PARAM']\n",
    "\n",
    "analyzer = LatencyExperimentAnalyzer(\n",
    "    base_path=\"/home/vinh/Q32024/CuckooHeavyKeeper/latency_2024_11_11\",\n",
    "    fixed_params=fixed_params,\n",
    "    subplot_params=subplot_params\n",
    ")\n",
    "\n",
    "# results = analyzer.analyze_latency_experiments()\n",
    "fig = analyzer.create_latency_visualization(results)\n",
    "fig.show()\n",
    "\n",
    "figure_path = '/home/vinh/Q32024/CuckooHeavyKeeper/latency_2024_11_11/figures'\n",
    "os.makedirs(figure_path, exist_ok=True)\n",
    "fig.update_layout(\n",
    "                height=400,  # Single row height\n",
    "                width=1000 ,\n",
    "            )\n",
    "fig.write_image(os.path.join(figure_path, 'par_latency_plot.pdf'))"
   ]
  },
  {
   "cell_type": "code",
   "execution_count": 3,
   "metadata": {},
   "outputs": [
    {
     "data": {
      "text/plain": [
       "[]"
      ]
     },
     "execution_count": 3,
     "metadata": {},
     "output_type": "execute_result"
    }
   ],
   "source": [
    "results"
   ]
  }
 ],
 "metadata": {
  "kernelspec": {
   "display_name": "pyvenv",
   "language": "python",
   "name": "python3"
  },
  "language_info": {
   "codemirror_mode": {
    "name": "ipython",
    "version": 3
   },
   "file_extension": ".py",
   "mimetype": "text/x-python",
   "name": "python",
   "nbconvert_exporter": "python",
   "pygments_lexer": "ipython3",
   "version": "3.11.9"
  }
 },
 "nbformat": 4,
 "nbformat_minor": 2
}
