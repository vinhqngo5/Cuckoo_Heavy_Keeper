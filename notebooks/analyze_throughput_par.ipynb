{
 "cells": [
  {
   "cell_type": "code",
   "execution_count": 20,
   "metadata": {},
   "outputs": [
    {
     "data": {
      "application/vnd.plotly.v1+json": {
       "config": {
        "plotlyServerURL": "https://plot.ly"
       },
       "data": [
        {
         "hovertemplate": "Threads: %{x}<br>Throughput: %{y:.2f} Mops<extra></extra>",
         "legendgroup": "Design=GLOBAL_HASHMAP, Query Rate=0.000000",
         "line": {
          "color": "#f44336",
          "dash": "solid"
         },
         "marker": {
          "color": "#f44336",
          "size": 10
         },
         "mode": "lines+markers",
         "name": "Design=GLOBAL_HASHMAP, Query Rate=0.000000",
         "showlegend": true,
         "type": "scatter",
         "x": [
          10,
          20,
          30,
          40,
          50,
          60,
          70
         ],
         "xaxis": "x",
         "y": [
          144.349838,
          355.654663,
          553.746216,
          761.673401,
          961.286499,
          1167.330078,
          1290.262939
         ],
         "yaxis": "y"
        },
        {
         "hovertemplate": "Threads: %{x}<br>Throughput: %{y:.2f} Mops<extra></extra>",
         "legendgroup": "Design=GLOBAL_HASHMAP, Query Rate=1.000000",
         "line": {
          "color": "#2196f3",
          "dash": "solid"
         },
         "marker": {
          "color": "#2196f3",
          "size": 10
         },
         "mode": "lines+markers",
         "name": "Design=GLOBAL_HASHMAP, Query Rate=1.000000",
         "showlegend": true,
         "type": "scatter",
         "x": [
          10,
          20,
          30,
          40,
          50,
          60,
          70
         ],
         "xaxis": "x",
         "y": [
          107.708672,
          304.262573,
          437.367218,
          672.866333,
          805.431396,
          923.572327,
          857.023315
         ],
         "yaxis": "y"
        },
        {
         "hovertemplate": "Threads: %{x}<br>Throughput: %{y:.2f} Mops<extra></extra>",
         "legendgroup": "Design=GLOBAL_HASHMAP, Query Rate=10.000000",
         "line": {
          "color": "#4caf50",
          "dash": "solid"
         },
         "marker": {
          "color": "#4caf50",
          "size": 10
         },
         "mode": "lines+markers",
         "name": "Design=GLOBAL_HASHMAP, Query Rate=10.000000",
         "showlegend": true,
         "type": "scatter",
         "x": [
          10,
          20,
          30,
          40,
          50,
          60,
          70
         ],
         "xaxis": "x",
         "y": [
          78.382545,
          177.582809,
          269.22525,
          376.186218,
          429.988373,
          465.095551,
          516.519958
         ],
         "yaxis": "y"
        },
        {
         "hovertemplate": "Threads: %{x}<br>Throughput: %{y:.2f} Mops<extra></extra>",
         "legendgroup": "Design=QPOPSS, Query Rate=0.000000",
         "line": {
          "color": "#f44336",
          "dash": "dot"
         },
         "marker": {
          "color": "#f44336",
          "size": 10
         },
         "mode": "lines+markers",
         "name": "Design=QPOPSS, Query Rate=0.000000",
         "showlegend": true,
         "type": "scatter",
         "x": [
          10,
          20,
          30,
          40,
          50,
          60,
          70
         ],
         "xaxis": "x",
         "y": [
          116.302307,
          348.395264,
          632.400757,
          926.664185,
          1066.085205,
          1249.987427,
          1362.340698
         ],
         "yaxis": "y"
        },
        {
         "hovertemplate": "Threads: %{x}<br>Throughput: %{y:.2f} Mops<extra></extra>",
         "legendgroup": "Design=QPOPSS, Query Rate=1.000000",
         "line": {
          "color": "#2196f3",
          "dash": "dot"
         },
         "marker": {
          "color": "#2196f3",
          "size": 10
         },
         "mode": "lines+markers",
         "name": "Design=QPOPSS, Query Rate=1.000000",
         "showlegend": true,
         "type": "scatter",
         "x": [
          10,
          20,
          30,
          40,
          50,
          60,
          70
         ],
         "xaxis": "x",
         "y": [
          93.658997,
          246.775833,
          377.246582,
          518.751221,
          547.350525,
          659.433472,
          652.963257
         ],
         "yaxis": "y"
        },
        {
         "hovertemplate": "Threads: %{x}<br>Throughput: %{y:.2f} Mops<extra></extra>",
         "legendgroup": "Design=QPOPSS, Query Rate=10.000000",
         "line": {
          "color": "#4caf50",
          "dash": "dot"
         },
         "marker": {
          "color": "#4caf50",
          "size": 10
         },
         "mode": "lines+markers",
         "name": "Design=QPOPSS, Query Rate=10.000000",
         "showlegend": true,
         "type": "scatter",
         "x": [
          10,
          20,
          30,
          40,
          50,
          60,
          70
         ],
         "xaxis": "x",
         "y": [
          54.28817,
          106.529861,
          137.416656,
          159.79158,
          173.787338,
          191.037903,
          174.147354
         ],
         "yaxis": "y"
        }
       ],
       "layout": {
        "annotations": [
         {
          "font": {
           "size": 16
          },
          "showarrow": false,
          "text": "THETA=0.000050, DIST_PARAM=1.500000",
          "x": 0.5,
          "xanchor": "center",
          "xref": "paper",
          "y": 1,
          "yanchor": "bottom",
          "yref": "paper"
         }
        ],
        "height": 400,
        "legend": {
         "x": 1.01,
         "xanchor": "left",
         "y": 0.99,
         "yanchor": "top"
        },
        "showlegend": true,
        "template": {
         "data": {
          "bar": [
           {
            "error_x": {
             "color": "#2a3f5f"
            },
            "error_y": {
             "color": "#2a3f5f"
            },
            "marker": {
             "line": {
              "color": "white",
              "width": 0.5
             },
             "pattern": {
              "fillmode": "overlay",
              "size": 10,
              "solidity": 0.2
             }
            },
            "type": "bar"
           }
          ],
          "barpolar": [
           {
            "marker": {
             "line": {
              "color": "white",
              "width": 0.5
             },
             "pattern": {
              "fillmode": "overlay",
              "size": 10,
              "solidity": 0.2
             }
            },
            "type": "barpolar"
           }
          ],
          "carpet": [
           {
            "aaxis": {
             "endlinecolor": "#2a3f5f",
             "gridcolor": "#C8D4E3",
             "linecolor": "#C8D4E3",
             "minorgridcolor": "#C8D4E3",
             "startlinecolor": "#2a3f5f"
            },
            "baxis": {
             "endlinecolor": "#2a3f5f",
             "gridcolor": "#C8D4E3",
             "linecolor": "#C8D4E3",
             "minorgridcolor": "#C8D4E3",
             "startlinecolor": "#2a3f5f"
            },
            "type": "carpet"
           }
          ],
          "choropleth": [
           {
            "colorbar": {
             "outlinewidth": 0,
             "ticks": ""
            },
            "type": "choropleth"
           }
          ],
          "contour": [
           {
            "colorbar": {
             "outlinewidth": 0,
             "ticks": ""
            },
            "colorscale": [
             [
              0,
              "#0d0887"
             ],
             [
              0.1111111111111111,
              "#46039f"
             ],
             [
              0.2222222222222222,
              "#7201a8"
             ],
             [
              0.3333333333333333,
              "#9c179e"
             ],
             [
              0.4444444444444444,
              "#bd3786"
             ],
             [
              0.5555555555555556,
              "#d8576b"
             ],
             [
              0.6666666666666666,
              "#ed7953"
             ],
             [
              0.7777777777777778,
              "#fb9f3a"
             ],
             [
              0.8888888888888888,
              "#fdca26"
             ],
             [
              1,
              "#f0f921"
             ]
            ],
            "type": "contour"
           }
          ],
          "contourcarpet": [
           {
            "colorbar": {
             "outlinewidth": 0,
             "ticks": ""
            },
            "type": "contourcarpet"
           }
          ],
          "heatmap": [
           {
            "colorbar": {
             "outlinewidth": 0,
             "ticks": ""
            },
            "colorscale": [
             [
              0,
              "#0d0887"
             ],
             [
              0.1111111111111111,
              "#46039f"
             ],
             [
              0.2222222222222222,
              "#7201a8"
             ],
             [
              0.3333333333333333,
              "#9c179e"
             ],
             [
              0.4444444444444444,
              "#bd3786"
             ],
             [
              0.5555555555555556,
              "#d8576b"
             ],
             [
              0.6666666666666666,
              "#ed7953"
             ],
             [
              0.7777777777777778,
              "#fb9f3a"
             ],
             [
              0.8888888888888888,
              "#fdca26"
             ],
             [
              1,
              "#f0f921"
             ]
            ],
            "type": "heatmap"
           }
          ],
          "heatmapgl": [
           {
            "colorbar": {
             "outlinewidth": 0,
             "ticks": ""
            },
            "colorscale": [
             [
              0,
              "#0d0887"
             ],
             [
              0.1111111111111111,
              "#46039f"
             ],
             [
              0.2222222222222222,
              "#7201a8"
             ],
             [
              0.3333333333333333,
              "#9c179e"
             ],
             [
              0.4444444444444444,
              "#bd3786"
             ],
             [
              0.5555555555555556,
              "#d8576b"
             ],
             [
              0.6666666666666666,
              "#ed7953"
             ],
             [
              0.7777777777777778,
              "#fb9f3a"
             ],
             [
              0.8888888888888888,
              "#fdca26"
             ],
             [
              1,
              "#f0f921"
             ]
            ],
            "type": "heatmapgl"
           }
          ],
          "histogram": [
           {
            "marker": {
             "pattern": {
              "fillmode": "overlay",
              "size": 10,
              "solidity": 0.2
             }
            },
            "type": "histogram"
           }
          ],
          "histogram2d": [
           {
            "colorbar": {
             "outlinewidth": 0,
             "ticks": ""
            },
            "colorscale": [
             [
              0,
              "#0d0887"
             ],
             [
              0.1111111111111111,
              "#46039f"
             ],
             [
              0.2222222222222222,
              "#7201a8"
             ],
             [
              0.3333333333333333,
              "#9c179e"
             ],
             [
              0.4444444444444444,
              "#bd3786"
             ],
             [
              0.5555555555555556,
              "#d8576b"
             ],
             [
              0.6666666666666666,
              "#ed7953"
             ],
             [
              0.7777777777777778,
              "#fb9f3a"
             ],
             [
              0.8888888888888888,
              "#fdca26"
             ],
             [
              1,
              "#f0f921"
             ]
            ],
            "type": "histogram2d"
           }
          ],
          "histogram2dcontour": [
           {
            "colorbar": {
             "outlinewidth": 0,
             "ticks": ""
            },
            "colorscale": [
             [
              0,
              "#0d0887"
             ],
             [
              0.1111111111111111,
              "#46039f"
             ],
             [
              0.2222222222222222,
              "#7201a8"
             ],
             [
              0.3333333333333333,
              "#9c179e"
             ],
             [
              0.4444444444444444,
              "#bd3786"
             ],
             [
              0.5555555555555556,
              "#d8576b"
             ],
             [
              0.6666666666666666,
              "#ed7953"
             ],
             [
              0.7777777777777778,
              "#fb9f3a"
             ],
             [
              0.8888888888888888,
              "#fdca26"
             ],
             [
              1,
              "#f0f921"
             ]
            ],
            "type": "histogram2dcontour"
           }
          ],
          "mesh3d": [
           {
            "colorbar": {
             "outlinewidth": 0,
             "ticks": ""
            },
            "type": "mesh3d"
           }
          ],
          "parcoords": [
           {
            "line": {
             "colorbar": {
              "outlinewidth": 0,
              "ticks": ""
             }
            },
            "type": "parcoords"
           }
          ],
          "pie": [
           {
            "automargin": true,
            "type": "pie"
           }
          ],
          "scatter": [
           {
            "fillpattern": {
             "fillmode": "overlay",
             "size": 10,
             "solidity": 0.2
            },
            "type": "scatter"
           }
          ],
          "scatter3d": [
           {
            "line": {
             "colorbar": {
              "outlinewidth": 0,
              "ticks": ""
             }
            },
            "marker": {
             "colorbar": {
              "outlinewidth": 0,
              "ticks": ""
             }
            },
            "type": "scatter3d"
           }
          ],
          "scattercarpet": [
           {
            "marker": {
             "colorbar": {
              "outlinewidth": 0,
              "ticks": ""
             }
            },
            "type": "scattercarpet"
           }
          ],
          "scattergeo": [
           {
            "marker": {
             "colorbar": {
              "outlinewidth": 0,
              "ticks": ""
             }
            },
            "type": "scattergeo"
           }
          ],
          "scattergl": [
           {
            "marker": {
             "colorbar": {
              "outlinewidth": 0,
              "ticks": ""
             }
            },
            "type": "scattergl"
           }
          ],
          "scattermapbox": [
           {
            "marker": {
             "colorbar": {
              "outlinewidth": 0,
              "ticks": ""
             }
            },
            "type": "scattermapbox"
           }
          ],
          "scatterpolar": [
           {
            "marker": {
             "colorbar": {
              "outlinewidth": 0,
              "ticks": ""
             }
            },
            "type": "scatterpolar"
           }
          ],
          "scatterpolargl": [
           {
            "marker": {
             "colorbar": {
              "outlinewidth": 0,
              "ticks": ""
             }
            },
            "type": "scatterpolargl"
           }
          ],
          "scatterternary": [
           {
            "marker": {
             "colorbar": {
              "outlinewidth": 0,
              "ticks": ""
             }
            },
            "type": "scatterternary"
           }
          ],
          "surface": [
           {
            "colorbar": {
             "outlinewidth": 0,
             "ticks": ""
            },
            "colorscale": [
             [
              0,
              "#0d0887"
             ],
             [
              0.1111111111111111,
              "#46039f"
             ],
             [
              0.2222222222222222,
              "#7201a8"
             ],
             [
              0.3333333333333333,
              "#9c179e"
             ],
             [
              0.4444444444444444,
              "#bd3786"
             ],
             [
              0.5555555555555556,
              "#d8576b"
             ],
             [
              0.6666666666666666,
              "#ed7953"
             ],
             [
              0.7777777777777778,
              "#fb9f3a"
             ],
             [
              0.8888888888888888,
              "#fdca26"
             ],
             [
              1,
              "#f0f921"
             ]
            ],
            "type": "surface"
           }
          ],
          "table": [
           {
            "cells": {
             "fill": {
              "color": "#EBF0F8"
             },
             "line": {
              "color": "white"
             }
            },
            "header": {
             "fill": {
              "color": "#C8D4E3"
             },
             "line": {
              "color": "white"
             }
            },
            "type": "table"
           }
          ]
         },
         "layout": {
          "annotationdefaults": {
           "arrowcolor": "#2a3f5f",
           "arrowhead": 0,
           "arrowwidth": 1
          },
          "autotypenumbers": "strict",
          "coloraxis": {
           "colorbar": {
            "outlinewidth": 0,
            "ticks": ""
           }
          },
          "colorscale": {
           "diverging": [
            [
             0,
             "#8e0152"
            ],
            [
             0.1,
             "#c51b7d"
            ],
            [
             0.2,
             "#de77ae"
            ],
            [
             0.3,
             "#f1b6da"
            ],
            [
             0.4,
             "#fde0ef"
            ],
            [
             0.5,
             "#f7f7f7"
            ],
            [
             0.6,
             "#e6f5d0"
            ],
            [
             0.7,
             "#b8e186"
            ],
            [
             0.8,
             "#7fbc41"
            ],
            [
             0.9,
             "#4d9221"
            ],
            [
             1,
             "#276419"
            ]
           ],
           "sequential": [
            [
             0,
             "#0d0887"
            ],
            [
             0.1111111111111111,
             "#46039f"
            ],
            [
             0.2222222222222222,
             "#7201a8"
            ],
            [
             0.3333333333333333,
             "#9c179e"
            ],
            [
             0.4444444444444444,
             "#bd3786"
            ],
            [
             0.5555555555555556,
             "#d8576b"
            ],
            [
             0.6666666666666666,
             "#ed7953"
            ],
            [
             0.7777777777777778,
             "#fb9f3a"
            ],
            [
             0.8888888888888888,
             "#fdca26"
            ],
            [
             1,
             "#f0f921"
            ]
           ],
           "sequentialminus": [
            [
             0,
             "#0d0887"
            ],
            [
             0.1111111111111111,
             "#46039f"
            ],
            [
             0.2222222222222222,
             "#7201a8"
            ],
            [
             0.3333333333333333,
             "#9c179e"
            ],
            [
             0.4444444444444444,
             "#bd3786"
            ],
            [
             0.5555555555555556,
             "#d8576b"
            ],
            [
             0.6666666666666666,
             "#ed7953"
            ],
            [
             0.7777777777777778,
             "#fb9f3a"
            ],
            [
             0.8888888888888888,
             "#fdca26"
            ],
            [
             1,
             "#f0f921"
            ]
           ]
          },
          "colorway": [
           "#636efa",
           "#EF553B",
           "#00cc96",
           "#ab63fa",
           "#FFA15A",
           "#19d3f3",
           "#FF6692",
           "#B6E880",
           "#FF97FF",
           "#FECB52"
          ],
          "font": {
           "color": "#2a3f5f"
          },
          "geo": {
           "bgcolor": "white",
           "lakecolor": "white",
           "landcolor": "white",
           "showlakes": true,
           "showland": true,
           "subunitcolor": "#C8D4E3"
          },
          "hoverlabel": {
           "align": "left"
          },
          "hovermode": "closest",
          "mapbox": {
           "style": "light"
          },
          "paper_bgcolor": "white",
          "plot_bgcolor": "white",
          "polar": {
           "angularaxis": {
            "gridcolor": "#EBF0F8",
            "linecolor": "#EBF0F8",
            "ticks": ""
           },
           "bgcolor": "white",
           "radialaxis": {
            "gridcolor": "#EBF0F8",
            "linecolor": "#EBF0F8",
            "ticks": ""
           }
          },
          "scene": {
           "xaxis": {
            "backgroundcolor": "white",
            "gridcolor": "#DFE8F3",
            "gridwidth": 2,
            "linecolor": "#EBF0F8",
            "showbackground": true,
            "ticks": "",
            "zerolinecolor": "#EBF0F8"
           },
           "yaxis": {
            "backgroundcolor": "white",
            "gridcolor": "#DFE8F3",
            "gridwidth": 2,
            "linecolor": "#EBF0F8",
            "showbackground": true,
            "ticks": "",
            "zerolinecolor": "#EBF0F8"
           },
           "zaxis": {
            "backgroundcolor": "white",
            "gridcolor": "#DFE8F3",
            "gridwidth": 2,
            "linecolor": "#EBF0F8",
            "showbackground": true,
            "ticks": "",
            "zerolinecolor": "#EBF0F8"
           }
          },
          "shapedefaults": {
           "line": {
            "color": "#2a3f5f"
           }
          },
          "ternary": {
           "aaxis": {
            "gridcolor": "#DFE8F3",
            "linecolor": "#A2B1C6",
            "ticks": ""
           },
           "baxis": {
            "gridcolor": "#DFE8F3",
            "linecolor": "#A2B1C6",
            "ticks": ""
           },
           "bgcolor": "white",
           "caxis": {
            "gridcolor": "#DFE8F3",
            "linecolor": "#A2B1C6",
            "ticks": ""
           }
          },
          "title": {
           "x": 0.05
          },
          "xaxis": {
           "automargin": true,
           "gridcolor": "#EBF0F8",
           "linecolor": "#EBF0F8",
           "ticks": "",
           "title": {
            "standoff": 15
           },
           "zerolinecolor": "#EBF0F8",
           "zerolinewidth": 2
          },
          "yaxis": {
           "automargin": true,
           "gridcolor": "#EBF0F8",
           "linecolor": "#EBF0F8",
           "ticks": "",
           "title": {
            "standoff": 15
           },
           "zerolinecolor": "#EBF0F8",
           "zerolinewidth": 2
          }
         }
        },
        "title": {
         "text": "Throughput Analysis"
        },
        "xaxis": {
         "anchor": "y",
         "domain": [
          0,
          1
         ],
         "tickmode": "array",
         "tickvals": [
          "10",
          "20",
          "30",
          "40",
          "50",
          "60",
          "70"
         ],
         "title": {
          "text": "Number of Threads"
         }
        },
        "yaxis": {
         "anchor": "x",
         "domain": [
          0,
          1
         ],
         "rangemode": "tozero",
         "tickformat": ".0f",
         "title": {
          "text": "Throughput (Mops)"
         }
        }
       }
      },
      "text/html": [
       "<div>                            <div id=\"c684ae3f-5156-4c1e-9d1b-869a65d03eb2\" class=\"plotly-graph-div\" style=\"height:400px; width:100%;\"></div>            <script type=\"text/javascript\">                require([\"plotly\"], function(Plotly) {                    window.PLOTLYENV=window.PLOTLYENV || {};                                    if (document.getElementById(\"c684ae3f-5156-4c1e-9d1b-869a65d03eb2\")) {                    Plotly.newPlot(                        \"c684ae3f-5156-4c1e-9d1b-869a65d03eb2\",                        [{\"hovertemplate\":\"Threads: %{x}\\u003cbr\\u003eThroughput: %{y:.2f} Mops\\u003cextra\\u003e\\u003c\\u002fextra\\u003e\",\"legendgroup\":\"Design=GLOBAL_HASHMAP, Query Rate=0.000000\",\"line\":{\"color\":\"#f44336\",\"dash\":\"solid\"},\"marker\":{\"color\":\"#f44336\",\"size\":10},\"mode\":\"lines+markers\",\"name\":\"Design=GLOBAL_HASHMAP, Query Rate=0.000000\",\"showlegend\":true,\"x\":[10,20,30,40,50,60,70],\"y\":[144.349838,355.654663,553.746216,761.673401,961.286499,1167.330078,1290.262939],\"type\":\"scatter\",\"xaxis\":\"x\",\"yaxis\":\"y\"},{\"hovertemplate\":\"Threads: %{x}\\u003cbr\\u003eThroughput: %{y:.2f} Mops\\u003cextra\\u003e\\u003c\\u002fextra\\u003e\",\"legendgroup\":\"Design=GLOBAL_HASHMAP, Query Rate=1.000000\",\"line\":{\"color\":\"#2196f3\",\"dash\":\"solid\"},\"marker\":{\"color\":\"#2196f3\",\"size\":10},\"mode\":\"lines+markers\",\"name\":\"Design=GLOBAL_HASHMAP, Query Rate=1.000000\",\"showlegend\":true,\"x\":[10,20,30,40,50,60,70],\"y\":[107.708672,304.262573,437.367218,672.866333,805.431396,923.572327,857.023315],\"type\":\"scatter\",\"xaxis\":\"x\",\"yaxis\":\"y\"},{\"hovertemplate\":\"Threads: %{x}\\u003cbr\\u003eThroughput: %{y:.2f} Mops\\u003cextra\\u003e\\u003c\\u002fextra\\u003e\",\"legendgroup\":\"Design=GLOBAL_HASHMAP, Query Rate=10.000000\",\"line\":{\"color\":\"#4caf50\",\"dash\":\"solid\"},\"marker\":{\"color\":\"#4caf50\",\"size\":10},\"mode\":\"lines+markers\",\"name\":\"Design=GLOBAL_HASHMAP, Query Rate=10.000000\",\"showlegend\":true,\"x\":[10,20,30,40,50,60,70],\"y\":[78.382545,177.582809,269.22525,376.186218,429.988373,465.095551,516.519958],\"type\":\"scatter\",\"xaxis\":\"x\",\"yaxis\":\"y\"},{\"hovertemplate\":\"Threads: %{x}\\u003cbr\\u003eThroughput: %{y:.2f} Mops\\u003cextra\\u003e\\u003c\\u002fextra\\u003e\",\"legendgroup\":\"Design=QPOPSS, Query Rate=0.000000\",\"line\":{\"color\":\"#f44336\",\"dash\":\"dot\"},\"marker\":{\"color\":\"#f44336\",\"size\":10},\"mode\":\"lines+markers\",\"name\":\"Design=QPOPSS, Query Rate=0.000000\",\"showlegend\":true,\"x\":[10,20,30,40,50,60,70],\"y\":[116.302307,348.395264,632.400757,926.664185,1066.085205,1249.987427,1362.340698],\"type\":\"scatter\",\"xaxis\":\"x\",\"yaxis\":\"y\"},{\"hovertemplate\":\"Threads: %{x}\\u003cbr\\u003eThroughput: %{y:.2f} Mops\\u003cextra\\u003e\\u003c\\u002fextra\\u003e\",\"legendgroup\":\"Design=QPOPSS, Query Rate=1.000000\",\"line\":{\"color\":\"#2196f3\",\"dash\":\"dot\"},\"marker\":{\"color\":\"#2196f3\",\"size\":10},\"mode\":\"lines+markers\",\"name\":\"Design=QPOPSS, Query Rate=1.000000\",\"showlegend\":true,\"x\":[10,20,30,40,50,60,70],\"y\":[93.658997,246.775833,377.246582,518.751221,547.350525,659.433472,652.963257],\"type\":\"scatter\",\"xaxis\":\"x\",\"yaxis\":\"y\"},{\"hovertemplate\":\"Threads: %{x}\\u003cbr\\u003eThroughput: %{y:.2f} Mops\\u003cextra\\u003e\\u003c\\u002fextra\\u003e\",\"legendgroup\":\"Design=QPOPSS, Query Rate=10.000000\",\"line\":{\"color\":\"#4caf50\",\"dash\":\"dot\"},\"marker\":{\"color\":\"#4caf50\",\"size\":10},\"mode\":\"lines+markers\",\"name\":\"Design=QPOPSS, Query Rate=10.000000\",\"showlegend\":true,\"x\":[10,20,30,40,50,60,70],\"y\":[54.28817,106.529861,137.416656,159.79158,173.787338,191.037903,174.147354],\"type\":\"scatter\",\"xaxis\":\"x\",\"yaxis\":\"y\"}],                        {\"template\":{\"data\":{\"barpolar\":[{\"marker\":{\"line\":{\"color\":\"white\",\"width\":0.5},\"pattern\":{\"fillmode\":\"overlay\",\"size\":10,\"solidity\":0.2}},\"type\":\"barpolar\"}],\"bar\":[{\"error_x\":{\"color\":\"#2a3f5f\"},\"error_y\":{\"color\":\"#2a3f5f\"},\"marker\":{\"line\":{\"color\":\"white\",\"width\":0.5},\"pattern\":{\"fillmode\":\"overlay\",\"size\":10,\"solidity\":0.2}},\"type\":\"bar\"}],\"carpet\":[{\"aaxis\":{\"endlinecolor\":\"#2a3f5f\",\"gridcolor\":\"#C8D4E3\",\"linecolor\":\"#C8D4E3\",\"minorgridcolor\":\"#C8D4E3\",\"startlinecolor\":\"#2a3f5f\"},\"baxis\":{\"endlinecolor\":\"#2a3f5f\",\"gridcolor\":\"#C8D4E3\",\"linecolor\":\"#C8D4E3\",\"minorgridcolor\":\"#C8D4E3\",\"startlinecolor\":\"#2a3f5f\"},\"type\":\"carpet\"}],\"choropleth\":[{\"colorbar\":{\"outlinewidth\":0,\"ticks\":\"\"},\"type\":\"choropleth\"}],\"contourcarpet\":[{\"colorbar\":{\"outlinewidth\":0,\"ticks\":\"\"},\"type\":\"contourcarpet\"}],\"contour\":[{\"colorbar\":{\"outlinewidth\":0,\"ticks\":\"\"},\"colorscale\":[[0.0,\"#0d0887\"],[0.1111111111111111,\"#46039f\"],[0.2222222222222222,\"#7201a8\"],[0.3333333333333333,\"#9c179e\"],[0.4444444444444444,\"#bd3786\"],[0.5555555555555556,\"#d8576b\"],[0.6666666666666666,\"#ed7953\"],[0.7777777777777778,\"#fb9f3a\"],[0.8888888888888888,\"#fdca26\"],[1.0,\"#f0f921\"]],\"type\":\"contour\"}],\"heatmapgl\":[{\"colorbar\":{\"outlinewidth\":0,\"ticks\":\"\"},\"colorscale\":[[0.0,\"#0d0887\"],[0.1111111111111111,\"#46039f\"],[0.2222222222222222,\"#7201a8\"],[0.3333333333333333,\"#9c179e\"],[0.4444444444444444,\"#bd3786\"],[0.5555555555555556,\"#d8576b\"],[0.6666666666666666,\"#ed7953\"],[0.7777777777777778,\"#fb9f3a\"],[0.8888888888888888,\"#fdca26\"],[1.0,\"#f0f921\"]],\"type\":\"heatmapgl\"}],\"heatmap\":[{\"colorbar\":{\"outlinewidth\":0,\"ticks\":\"\"},\"colorscale\":[[0.0,\"#0d0887\"],[0.1111111111111111,\"#46039f\"],[0.2222222222222222,\"#7201a8\"],[0.3333333333333333,\"#9c179e\"],[0.4444444444444444,\"#bd3786\"],[0.5555555555555556,\"#d8576b\"],[0.6666666666666666,\"#ed7953\"],[0.7777777777777778,\"#fb9f3a\"],[0.8888888888888888,\"#fdca26\"],[1.0,\"#f0f921\"]],\"type\":\"heatmap\"}],\"histogram2dcontour\":[{\"colorbar\":{\"outlinewidth\":0,\"ticks\":\"\"},\"colorscale\":[[0.0,\"#0d0887\"],[0.1111111111111111,\"#46039f\"],[0.2222222222222222,\"#7201a8\"],[0.3333333333333333,\"#9c179e\"],[0.4444444444444444,\"#bd3786\"],[0.5555555555555556,\"#d8576b\"],[0.6666666666666666,\"#ed7953\"],[0.7777777777777778,\"#fb9f3a\"],[0.8888888888888888,\"#fdca26\"],[1.0,\"#f0f921\"]],\"type\":\"histogram2dcontour\"}],\"histogram2d\":[{\"colorbar\":{\"outlinewidth\":0,\"ticks\":\"\"},\"colorscale\":[[0.0,\"#0d0887\"],[0.1111111111111111,\"#46039f\"],[0.2222222222222222,\"#7201a8\"],[0.3333333333333333,\"#9c179e\"],[0.4444444444444444,\"#bd3786\"],[0.5555555555555556,\"#d8576b\"],[0.6666666666666666,\"#ed7953\"],[0.7777777777777778,\"#fb9f3a\"],[0.8888888888888888,\"#fdca26\"],[1.0,\"#f0f921\"]],\"type\":\"histogram2d\"}],\"histogram\":[{\"marker\":{\"pattern\":{\"fillmode\":\"overlay\",\"size\":10,\"solidity\":0.2}},\"type\":\"histogram\"}],\"mesh3d\":[{\"colorbar\":{\"outlinewidth\":0,\"ticks\":\"\"},\"type\":\"mesh3d\"}],\"parcoords\":[{\"line\":{\"colorbar\":{\"outlinewidth\":0,\"ticks\":\"\"}},\"type\":\"parcoords\"}],\"pie\":[{\"automargin\":true,\"type\":\"pie\"}],\"scatter3d\":[{\"line\":{\"colorbar\":{\"outlinewidth\":0,\"ticks\":\"\"}},\"marker\":{\"colorbar\":{\"outlinewidth\":0,\"ticks\":\"\"}},\"type\":\"scatter3d\"}],\"scattercarpet\":[{\"marker\":{\"colorbar\":{\"outlinewidth\":0,\"ticks\":\"\"}},\"type\":\"scattercarpet\"}],\"scattergeo\":[{\"marker\":{\"colorbar\":{\"outlinewidth\":0,\"ticks\":\"\"}},\"type\":\"scattergeo\"}],\"scattergl\":[{\"marker\":{\"colorbar\":{\"outlinewidth\":0,\"ticks\":\"\"}},\"type\":\"scattergl\"}],\"scattermapbox\":[{\"marker\":{\"colorbar\":{\"outlinewidth\":0,\"ticks\":\"\"}},\"type\":\"scattermapbox\"}],\"scatterpolargl\":[{\"marker\":{\"colorbar\":{\"outlinewidth\":0,\"ticks\":\"\"}},\"type\":\"scatterpolargl\"}],\"scatterpolar\":[{\"marker\":{\"colorbar\":{\"outlinewidth\":0,\"ticks\":\"\"}},\"type\":\"scatterpolar\"}],\"scatter\":[{\"fillpattern\":{\"fillmode\":\"overlay\",\"size\":10,\"solidity\":0.2},\"type\":\"scatter\"}],\"scatterternary\":[{\"marker\":{\"colorbar\":{\"outlinewidth\":0,\"ticks\":\"\"}},\"type\":\"scatterternary\"}],\"surface\":[{\"colorbar\":{\"outlinewidth\":0,\"ticks\":\"\"},\"colorscale\":[[0.0,\"#0d0887\"],[0.1111111111111111,\"#46039f\"],[0.2222222222222222,\"#7201a8\"],[0.3333333333333333,\"#9c179e\"],[0.4444444444444444,\"#bd3786\"],[0.5555555555555556,\"#d8576b\"],[0.6666666666666666,\"#ed7953\"],[0.7777777777777778,\"#fb9f3a\"],[0.8888888888888888,\"#fdca26\"],[1.0,\"#f0f921\"]],\"type\":\"surface\"}],\"table\":[{\"cells\":{\"fill\":{\"color\":\"#EBF0F8\"},\"line\":{\"color\":\"white\"}},\"header\":{\"fill\":{\"color\":\"#C8D4E3\"},\"line\":{\"color\":\"white\"}},\"type\":\"table\"}]},\"layout\":{\"annotationdefaults\":{\"arrowcolor\":\"#2a3f5f\",\"arrowhead\":0,\"arrowwidth\":1},\"autotypenumbers\":\"strict\",\"coloraxis\":{\"colorbar\":{\"outlinewidth\":0,\"ticks\":\"\"}},\"colorscale\":{\"diverging\":[[0,\"#8e0152\"],[0.1,\"#c51b7d\"],[0.2,\"#de77ae\"],[0.3,\"#f1b6da\"],[0.4,\"#fde0ef\"],[0.5,\"#f7f7f7\"],[0.6,\"#e6f5d0\"],[0.7,\"#b8e186\"],[0.8,\"#7fbc41\"],[0.9,\"#4d9221\"],[1,\"#276419\"]],\"sequential\":[[0.0,\"#0d0887\"],[0.1111111111111111,\"#46039f\"],[0.2222222222222222,\"#7201a8\"],[0.3333333333333333,\"#9c179e\"],[0.4444444444444444,\"#bd3786\"],[0.5555555555555556,\"#d8576b\"],[0.6666666666666666,\"#ed7953\"],[0.7777777777777778,\"#fb9f3a\"],[0.8888888888888888,\"#fdca26\"],[1.0,\"#f0f921\"]],\"sequentialminus\":[[0.0,\"#0d0887\"],[0.1111111111111111,\"#46039f\"],[0.2222222222222222,\"#7201a8\"],[0.3333333333333333,\"#9c179e\"],[0.4444444444444444,\"#bd3786\"],[0.5555555555555556,\"#d8576b\"],[0.6666666666666666,\"#ed7953\"],[0.7777777777777778,\"#fb9f3a\"],[0.8888888888888888,\"#fdca26\"],[1.0,\"#f0f921\"]]},\"colorway\":[\"#636efa\",\"#EF553B\",\"#00cc96\",\"#ab63fa\",\"#FFA15A\",\"#19d3f3\",\"#FF6692\",\"#B6E880\",\"#FF97FF\",\"#FECB52\"],\"font\":{\"color\":\"#2a3f5f\"},\"geo\":{\"bgcolor\":\"white\",\"lakecolor\":\"white\",\"landcolor\":\"white\",\"showlakes\":true,\"showland\":true,\"subunitcolor\":\"#C8D4E3\"},\"hoverlabel\":{\"align\":\"left\"},\"hovermode\":\"closest\",\"mapbox\":{\"style\":\"light\"},\"paper_bgcolor\":\"white\",\"plot_bgcolor\":\"white\",\"polar\":{\"angularaxis\":{\"gridcolor\":\"#EBF0F8\",\"linecolor\":\"#EBF0F8\",\"ticks\":\"\"},\"bgcolor\":\"white\",\"radialaxis\":{\"gridcolor\":\"#EBF0F8\",\"linecolor\":\"#EBF0F8\",\"ticks\":\"\"}},\"scene\":{\"xaxis\":{\"backgroundcolor\":\"white\",\"gridcolor\":\"#DFE8F3\",\"gridwidth\":2,\"linecolor\":\"#EBF0F8\",\"showbackground\":true,\"ticks\":\"\",\"zerolinecolor\":\"#EBF0F8\"},\"yaxis\":{\"backgroundcolor\":\"white\",\"gridcolor\":\"#DFE8F3\",\"gridwidth\":2,\"linecolor\":\"#EBF0F8\",\"showbackground\":true,\"ticks\":\"\",\"zerolinecolor\":\"#EBF0F8\"},\"zaxis\":{\"backgroundcolor\":\"white\",\"gridcolor\":\"#DFE8F3\",\"gridwidth\":2,\"linecolor\":\"#EBF0F8\",\"showbackground\":true,\"ticks\":\"\",\"zerolinecolor\":\"#EBF0F8\"}},\"shapedefaults\":{\"line\":{\"color\":\"#2a3f5f\"}},\"ternary\":{\"aaxis\":{\"gridcolor\":\"#DFE8F3\",\"linecolor\":\"#A2B1C6\",\"ticks\":\"\"},\"baxis\":{\"gridcolor\":\"#DFE8F3\",\"linecolor\":\"#A2B1C6\",\"ticks\":\"\"},\"bgcolor\":\"white\",\"caxis\":{\"gridcolor\":\"#DFE8F3\",\"linecolor\":\"#A2B1C6\",\"ticks\":\"\"}},\"title\":{\"x\":0.05},\"xaxis\":{\"automargin\":true,\"gridcolor\":\"#EBF0F8\",\"linecolor\":\"#EBF0F8\",\"ticks\":\"\",\"title\":{\"standoff\":15},\"zerolinecolor\":\"#EBF0F8\",\"zerolinewidth\":2},\"yaxis\":{\"automargin\":true,\"gridcolor\":\"#EBF0F8\",\"linecolor\":\"#EBF0F8\",\"ticks\":\"\",\"title\":{\"standoff\":15},\"zerolinecolor\":\"#EBF0F8\",\"zerolinewidth\":2}}},\"xaxis\":{\"anchor\":\"y\",\"domain\":[0.0,1.0],\"title\":{\"text\":\"Number of Threads\"},\"tickmode\":\"array\",\"tickvals\":[\"10\",\"20\",\"30\",\"40\",\"50\",\"60\",\"70\"]},\"yaxis\":{\"anchor\":\"x\",\"domain\":[0.0,1.0],\"title\":{\"text\":\"Throughput (Mops)\"},\"rangemode\":\"tozero\",\"tickformat\":\".0f\"},\"annotations\":[{\"font\":{\"size\":16},\"showarrow\":false,\"text\":\"THETA=0.000050, DIST_PARAM=1.500000\",\"x\":0.5,\"xanchor\":\"center\",\"xref\":\"paper\",\"y\":1.0,\"yanchor\":\"bottom\",\"yref\":\"paper\"}],\"title\":{\"text\":\"Throughput Analysis\"},\"legend\":{\"yanchor\":\"top\",\"y\":0.99,\"xanchor\":\"left\",\"x\":1.01},\"height\":400,\"showlegend\":true},                        {\"responsive\": true}                    ).then(function(){\n",
       "                            \n",
       "var gd = document.getElementById('c684ae3f-5156-4c1e-9d1b-869a65d03eb2');\n",
       "var x = new MutationObserver(function (mutations, observer) {{\n",
       "        var display = window.getComputedStyle(gd).display;\n",
       "        if (!display || display === 'none') {{\n",
       "            console.log([gd, 'removed!']);\n",
       "            Plotly.purge(gd);\n",
       "            observer.disconnect();\n",
       "        }}\n",
       "}});\n",
       "\n",
       "// Listen for the removal of the full notebook cells\n",
       "var notebookContainer = gd.closest('#notebook-container');\n",
       "if (notebookContainer) {{\n",
       "    x.observe(notebookContainer, {childList: true});\n",
       "}}\n",
       "\n",
       "// Listen for the clearing of the current output cell\n",
       "var outputEl = gd.closest('.output');\n",
       "if (outputEl) {{\n",
       "    x.observe(outputEl, {childList: true});\n",
       "}}\n",
       "\n",
       "                        })                };                });            </script>        </div>"
      ]
     },
     "metadata": {},
     "output_type": "display_data"
    }
   ],
   "source": [
    "import os\n",
    "import re\n",
    "import pandas as pd\n",
    "import plotly.graph_objects as go\n",
    "from plotly.subplots import make_subplots\n",
    "from typing import List, Dict, Set, Any\n",
    "import json\n",
    "\n",
    "def load_material_colors(filepath='material-colors.json'):\n",
    "    \"\"\"Load material design colors from JSON file.\"\"\"\n",
    "    with open(filepath, 'r') as f:\n",
    "        colors = json.load(f)\n",
    "    return colors\n",
    "\n",
    "\n",
    "class ThroughputExperimentAnalyzer:\n",
    "    def __init__(self, base_path: str, fixed_params: Dict[str, Set[str]], subplot_params: List[str]):\n",
    "        self.base_path = base_path\n",
    "        self.fixed_params = fixed_params\n",
    "        self.subplot_params = subplot_params\n",
    "        self.varying_params = [\n",
    "            'PARALLEL_DESIGN',\n",
    "            'HEAVY_QUERY_RATE'\n",
    "        ]\n",
    "        \n",
    "        # Load colors once at initialization\n",
    "        with open('/home/vinh/Q32024/CuckooHeavyKeeper/notebooks/material-colors.json') as f:\n",
    "            self.material_colors = json.load(f)\n",
    "\n",
    "    def get_design_style(self, design: str, query_rate: str) -> dict:\n",
    "        \"\"\"Returns color by query rate and line pattern by design\"\"\"\n",
    "        query_colors = {\n",
    "            '0.000000': 'red',\n",
    "            '1.000000': 'blue', \n",
    "            '5.000000': 'yellow',\n",
    "            '10.000000': 'green'\n",
    "        }\n",
    "        \n",
    "        # Use different symbols in the line pattern\n",
    "        design_patterns = {\n",
    "            'GLOBAL_HASHMAP': 'solid',\n",
    "            'QPOPSS': 'dot'  # will create a dotted line pattern\n",
    "        }\n",
    "        \n",
    "        return {\n",
    "            'color': self.material_colors[query_colors[query_rate]]['500'],\n",
    "            'dash': design_patterns[design]\n",
    "        }\n",
    "        \n",
    "    def parse_experiment_path(self, path: str) -> Dict[str, Any]:\n",
    "        \"\"\"Extract experiment parameters from path.\"\"\"\n",
    "        params = {}\n",
    "        parts = path.split(os.sep)\n",
    "        for part in parts:\n",
    "            if '=' in part:\n",
    "                key, value = part.split('=')\n",
    "                params[key] = value\n",
    "        return params\n",
    "\n",
    "    def extract_throughput(self, file_content: str) -> float:\n",
    "        \"\"\"Extract throughput value from file content.\"\"\"\n",
    "        pattern = r\"Throughput: (\\d+\\.\\d+)\"\n",
    "        match = re.search(pattern, file_content)\n",
    "        if match:\n",
    "            return float(match.group(1))\n",
    "        return 0.0\n",
    "\n",
    "    def read_throughput_file(self, folder_path: str) -> float:\n",
    "        \"\"\"Read delegation file and extract throughput value.\"\"\"\n",
    "        for filename in os.listdir(folder_path):\n",
    "            if filename.endswith('_delegation.json'):\n",
    "                file_path = os.path.join(folder_path, filename)\n",
    "                with open(file_path, 'r') as f:\n",
    "                    content = f.read()\n",
    "                    return self.extract_throughput(content)\n",
    "        return 0.0\n",
    "\n",
    "    def matches_fixed_params(self, params: Dict[str, str]) -> bool:\n",
    "        \"\"\"Check if experiment parameters match the fixed parameters.\"\"\"\n",
    "        for key, values in self.fixed_params.items():\n",
    "            if key in params and params[key] not in values:\n",
    "                return False\n",
    "        return True\n",
    "\n",
    "    def analyze_throughput_experiments(self) -> List[Dict[str, Any]]:\n",
    "        \"\"\"Analyze all experiments and prepare visualization data.\"\"\"\n",
    "        results = []\n",
    "        \n",
    "        for root, dirs, files in os.walk(self.base_path):\n",
    "            if any(f.endswith('_delegation.json') for f in files):\n",
    "                params = self.parse_experiment_path(root)\n",
    "                \n",
    "                if not self.matches_fixed_params(params):\n",
    "                    continue\n",
    "                throughput = self.read_throughput_file(root)\n",
    "                if throughput > 0:\n",
    "                    params['throughput'] = throughput\n",
    "                    results.append(params)\n",
    "        \n",
    "        return results\n",
    "\n",
    "    def create_throughput_visualization(self, results: List[Dict[str, Any]]) -> go.Figure:\n",
    "        \"\"\"Create line chart visualization.\"\"\"\n",
    "        # Group results by subplot parameters\n",
    "        grouped_results = {}\n",
    "        for result in results:\n",
    "            key_params = tuple(\n",
    "                (k, v) for k, v in result.items()\n",
    "                if k in self.subplot_params\n",
    "            )\n",
    "            group_key = frozenset(key_params)\n",
    "            if group_key not in grouped_results:\n",
    "                grouped_results[group_key] = []\n",
    "            grouped_results[group_key].append(result)\n",
    "\n",
    "        # Create subplot for each group\n",
    "        fig = make_subplots(\n",
    "            rows=len(grouped_results),\n",
    "            cols=1,\n",
    "            subplot_titles=[', '.join(f\"{k}={v}\" for k, v in dict(key).items())\n",
    "                          for key in grouped_results.keys()],\n",
    "            vertical_spacing=0.1\n",
    "        )\n",
    "\n",
    "        # Generate distinct colors for combinations of varying parameters\n",
    "        colors = ['blue', 'red', 'green', 'purple', 'orange', 'brown', 'pink', 'gray']\n",
    "        param_combinations = {}\n",
    "        color_idx = 0\n",
    "\n",
    "        row = 1\n",
    "        for group_key, group_results in grouped_results.items():\n",
    "            # Group by PARALLEL_DESIGN and HEAVY_QUERY_RATE\n",
    "            design_rate_groups = {}\n",
    "            \n",
    "            for result in group_results:\n",
    "                combo = (result['PARARLLEL_DESIGN'], result['HEAVY_QUERY_RATE'])\n",
    "                if combo not in design_rate_groups:\n",
    "                    design_rate_groups[combo] = []\n",
    "                design_rate_groups[combo].append(result)\n",
    "\n",
    "            for combo, combo_results in design_rate_groups.items():\n",
    "                if combo not in param_combinations:\n",
    "                    param_combinations[combo] = colors[color_idx % len(colors)]\n",
    "                    color_idx += 1\n",
    "\n",
    "                # Sort by number of threads\n",
    "                sorted_results = sorted(combo_results, key=lambda x: int(x['NUM_THREADS']))\n",
    "                \n",
    "                x_values = [int(r['NUM_THREADS']) for r in sorted_results]\n",
    "                y_values = [r['throughput'] for r in sorted_results]\n",
    "                \n",
    "                name = f\"Design={combo[0]}, Query Rate={combo[1]}\"\n",
    "                \n",
    "                style = self.get_design_style(\n",
    "                    design=combo[0],     # PARALLEL_DESIGN\n",
    "                    query_rate=combo[1]  # HEAVY_QUERY_RATE\n",
    "                )\n",
    "                \n",
    "                fig.add_trace(\n",
    "                    go.Scatter(\n",
    "                        x=x_values,\n",
    "                        y=y_values,\n",
    "                        name=name,\n",
    "                        mode='lines+markers',\n",
    "                        # line=dict(color=param_combinations[combo]),\n",
    "                        line=dict(\n",
    "                        color=style['color'],\n",
    "                        dash=style['dash']\n",
    "                        ),\n",
    "                        marker=dict(\n",
    "                            size=10,\n",
    "                            color=style['color']\n",
    "                        ),\n",
    "                        legendgroup=name,\n",
    "                        showlegend=(row == 1),\n",
    "                        hovertemplate=\"Threads: %{x}<br>Throughput: %{y:.2f} Mops<extra></extra>\"\n",
    "                    ),\n",
    "                    row=row,\n",
    "                    col=1\n",
    "                )\n",
    "            \n",
    "            row += 1\n",
    "\n",
    "        # Update layout\n",
    "        fig.update_layout(\n",
    "            height=400 * len(grouped_results),\n",
    "            title_text=\"Throughput Analysis\",\n",
    "            showlegend=True,\n",
    "            template=\"plotly_white\",\n",
    "            legend=dict(\n",
    "                yanchor=\"top\",\n",
    "                y=0.99,\n",
    "                xanchor=\"left\",\n",
    "                x=1.01\n",
    "            )\n",
    "        )\n",
    "        \n",
    "        # Update the axes formatting:\n",
    "        for i in range(len(grouped_results)):\n",
    "            fig.update_xaxes(\n",
    "                title_text=\"Number of Threads\",\n",
    "                row=i+1,\n",
    "                col=1,\n",
    "                tickmode='array',\n",
    "                tickvals=sorted(list(fixed_params['NUM_THREADS']))\n",
    "            )\n",
    "            fig.update_yaxes(\n",
    "                title_text=\"Throughput (Mops)\",\n",
    "                row=i+1,\n",
    "                col=1,\n",
    "                rangemode='tozero',\n",
    "                tickformat='.0f'\n",
    "            )\n",
    "\n",
    "        # Update axes labels\n",
    "        for i in range(len(grouped_results)):\n",
    "            fig.update_xaxes(title_text=\"Number of Threads\", row=i+1, col=1)\n",
    "            fig.update_yaxes(title_text=\"Throughput (Mops)\", row=i+1, col=1)\n",
    "\n",
    "        return fig\n",
    "\n",
    "# Example usage\n",
    "fixed_params = {\n",
    "    # 'DIST_PARAM': {'1.200000', '1.500000'},\n",
    "    'DIST_PARAM': { '1.500000'},\n",
    "    'NUM_THREADS': {'10', '20', '30', '40', '50', '60', '70'},\n",
    "    'THETA': {'0.000050'},\n",
    "    'PARALLEL_DESIGN': {'GLOBAL_HASHMAP', 'QPOPSS'},\n",
    "    # 'HEAVY_QUERY_RATE': {'0.000000', '1.000000', '5.000000', '10.000000'}\n",
    "    'HEAVY_QUERY_RATE': {'0.000000', '1.000000', '10.000000'}\n",
    "}\n",
    "\n",
    "subplot_params = ['DIST_PARAM', 'THETA', 'DIST_PARAM']\n",
    "\n",
    "analyzer = ThroughputExperimentAnalyzer(\n",
    "    base_path=\"/home/vinh/Q32024/CuckooHeavyKeeper/throughput_2024_11_10\",\n",
    "    fixed_params=fixed_params,\n",
    "    subplot_params=subplot_params\n",
    ")\n",
    "\n",
    "# results = analyzer.analyze_throughput_experiments()\n",
    "fig = analyzer.create_throughput_visualization(results)\n",
    "fig.show()\n",
    "\n",
    "figure_path = '/home/vinh/Q32024/CuckooHeavyKeeper/throughput_2024_11_10/figures'\n",
    "os.makedirs(figure_path, exist_ok=True)\n",
    "fig.update_layout(\n",
    "                height=400,  # Single row height\n",
    "                width=1000 ,\n",
    "            )\n",
    "fig.write_image(os.path.join(figure_path, 'par_throughput_plot.pdf'))\n"
   ]
  },
  {
   "cell_type": "code",
   "execution_count": 13,
   "metadata": {},
   "outputs": [
    {
     "data": {
      "text/plain": [
       "[{'ALGORITHM': 'cuckoo_heavy_keeper',\n",
       "  'MODE': 'heavy_hitter',\n",
       "  'PARARLLEL_DESIGN': 'GLOBAL_HASHMAP',\n",
       "  'EVALUATE_MODE': 'throughput',\n",
       "  'EVALUATE_ACCURACY_WHEN': 'ivl_end',\n",
       "  'EVALUATE_ACCURACY_ERROR_SOURCES': 'algo_df_continuous',\n",
       "  'EVALUATE_ACCURACY_STREAM_SIZE': '10000000',\n",
       "  'NUM_THREADS': '10',\n",
       "  'DIST_PARAM': '1.500000',\n",
       "  'THETA': '0.000050',\n",
       "  'HEAVY_QUERY_RATE': '0.000000',\n",
       "  'throughput': '144.349838'},\n",
       " {'ALGORITHM': 'cuckoo_heavy_keeper',\n",
       "  'MODE': 'heavy_hitter',\n",
       "  'PARARLLEL_DESIGN': 'GLOBAL_HASHMAP',\n",
       "  'EVALUATE_MODE': 'throughput',\n",
       "  'EVALUATE_ACCURACY_WHEN': 'ivl_end',\n",
       "  'EVALUATE_ACCURACY_ERROR_SOURCES': 'algo_df_continuous',\n",
       "  'EVALUATE_ACCURACY_STREAM_SIZE': '10000000',\n",
       "  'NUM_THREADS': '10',\n",
       "  'DIST_PARAM': '1.500000',\n",
       "  'THETA': '0.000050',\n",
       "  'HEAVY_QUERY_RATE': '1.000000',\n",
       "  'throughput': '107.708672'},\n",
       " {'ALGORITHM': 'cuckoo_heavy_keeper',\n",
       "  'MODE': 'heavy_hitter',\n",
       "  'PARARLLEL_DESIGN': 'GLOBAL_HASHMAP',\n",
       "  'EVALUATE_MODE': 'throughput',\n",
       "  'EVALUATE_ACCURACY_WHEN': 'ivl_end',\n",
       "  'EVALUATE_ACCURACY_ERROR_SOURCES': 'algo_df_continuous',\n",
       "  'EVALUATE_ACCURACY_STREAM_SIZE': '10000000',\n",
       "  'NUM_THREADS': '10',\n",
       "  'DIST_PARAM': '1.500000',\n",
       "  'THETA': '0.000050',\n",
       "  'HEAVY_QUERY_RATE': '5.000000',\n",
       "  'throughput': '86.970169'},\n",
       " {'ALGORITHM': 'cuckoo_heavy_keeper',\n",
       "  'MODE': 'heavy_hitter',\n",
       "  'PARARLLEL_DESIGN': 'GLOBAL_HASHMAP',\n",
       "  'EVALUATE_MODE': 'throughput',\n",
       "  'EVALUATE_ACCURACY_WHEN': 'ivl_end',\n",
       "  'EVALUATE_ACCURACY_ERROR_SOURCES': 'algo_df_continuous',\n",
       "  'EVALUATE_ACCURACY_STREAM_SIZE': '10000000',\n",
       "  'NUM_THREADS': '10',\n",
       "  'DIST_PARAM': '1.500000',\n",
       "  'THETA': '0.000050',\n",
       "  'HEAVY_QUERY_RATE': '10.000000',\n",
       "  'throughput': '78.382545'},\n",
       " {'ALGORITHM': 'cuckoo_heavy_keeper',\n",
       "  'MODE': 'heavy_hitter',\n",
       "  'PARARLLEL_DESIGN': 'GLOBAL_HASHMAP',\n",
       "  'EVALUATE_MODE': 'throughput',\n",
       "  'EVALUATE_ACCURACY_WHEN': 'ivl_end',\n",
       "  'EVALUATE_ACCURACY_ERROR_SOURCES': 'algo_df_continuous',\n",
       "  'EVALUATE_ACCURACY_STREAM_SIZE': '10000000',\n",
       "  'NUM_THREADS': '20',\n",
       "  'DIST_PARAM': '1.500000',\n",
       "  'THETA': '0.000050',\n",
       "  'HEAVY_QUERY_RATE': '0.000000',\n",
       "  'throughput': '355.654663'},\n",
       " {'ALGORITHM': 'cuckoo_heavy_keeper',\n",
       "  'MODE': 'heavy_hitter',\n",
       "  'PARARLLEL_DESIGN': 'GLOBAL_HASHMAP',\n",
       "  'EVALUATE_MODE': 'throughput',\n",
       "  'EVALUATE_ACCURACY_WHEN': 'ivl_end',\n",
       "  'EVALUATE_ACCURACY_ERROR_SOURCES': 'algo_df_continuous',\n",
       "  'EVALUATE_ACCURACY_STREAM_SIZE': '10000000',\n",
       "  'NUM_THREADS': '20',\n",
       "  'DIST_PARAM': '1.500000',\n",
       "  'THETA': '0.000050',\n",
       "  'HEAVY_QUERY_RATE': '1.000000',\n",
       "  'throughput': '304.262573'},\n",
       " {'ALGORITHM': 'cuckoo_heavy_keeper',\n",
       "  'MODE': 'heavy_hitter',\n",
       "  'PARARLLEL_DESIGN': 'GLOBAL_HASHMAP',\n",
       "  'EVALUATE_MODE': 'throughput',\n",
       "  'EVALUATE_ACCURACY_WHEN': 'ivl_end',\n",
       "  'EVALUATE_ACCURACY_ERROR_SOURCES': 'algo_df_continuous',\n",
       "  'EVALUATE_ACCURACY_STREAM_SIZE': '10000000',\n",
       "  'NUM_THREADS': '20',\n",
       "  'DIST_PARAM': '1.500000',\n",
       "  'THETA': '0.000050',\n",
       "  'HEAVY_QUERY_RATE': '5.000000',\n",
       "  'throughput': '231.90361'},\n",
       " {'ALGORITHM': 'cuckoo_heavy_keeper',\n",
       "  'MODE': 'heavy_hitter',\n",
       "  'PARARLLEL_DESIGN': 'GLOBAL_HASHMAP',\n",
       "  'EVALUATE_MODE': 'throughput',\n",
       "  'EVALUATE_ACCURACY_WHEN': 'ivl_end',\n",
       "  'EVALUATE_ACCURACY_ERROR_SOURCES': 'algo_df_continuous',\n",
       "  'EVALUATE_ACCURACY_STREAM_SIZE': '10000000',\n",
       "  'NUM_THREADS': '20',\n",
       "  'DIST_PARAM': '1.500000',\n",
       "  'THETA': '0.000050',\n",
       "  'HEAVY_QUERY_RATE': '10.000000',\n",
       "  'throughput': '177.582809'},\n",
       " {'ALGORITHM': 'cuckoo_heavy_keeper',\n",
       "  'MODE': 'heavy_hitter',\n",
       "  'PARARLLEL_DESIGN': 'GLOBAL_HASHMAP',\n",
       "  'EVALUATE_MODE': 'throughput',\n",
       "  'EVALUATE_ACCURACY_WHEN': 'ivl_end',\n",
       "  'EVALUATE_ACCURACY_ERROR_SOURCES': 'algo_df_continuous',\n",
       "  'EVALUATE_ACCURACY_STREAM_SIZE': '10000000',\n",
       "  'NUM_THREADS': '30',\n",
       "  'DIST_PARAM': '1.500000',\n",
       "  'THETA': '0.000050',\n",
       "  'HEAVY_QUERY_RATE': '0.000000',\n",
       "  'throughput': '553.746216'},\n",
       " {'ALGORITHM': 'cuckoo_heavy_keeper',\n",
       "  'MODE': 'heavy_hitter',\n",
       "  'PARARLLEL_DESIGN': 'GLOBAL_HASHMAP',\n",
       "  'EVALUATE_MODE': 'throughput',\n",
       "  'EVALUATE_ACCURACY_WHEN': 'ivl_end',\n",
       "  'EVALUATE_ACCURACY_ERROR_SOURCES': 'algo_df_continuous',\n",
       "  'EVALUATE_ACCURACY_STREAM_SIZE': '10000000',\n",
       "  'NUM_THREADS': '30',\n",
       "  'DIST_PARAM': '1.500000',\n",
       "  'THETA': '0.000050',\n",
       "  'HEAVY_QUERY_RATE': '1.000000',\n",
       "  'throughput': '437.367218'},\n",
       " {'ALGORITHM': 'cuckoo_heavy_keeper',\n",
       "  'MODE': 'heavy_hitter',\n",
       "  'PARARLLEL_DESIGN': 'GLOBAL_HASHMAP',\n",
       "  'EVALUATE_MODE': 'throughput',\n",
       "  'EVALUATE_ACCURACY_WHEN': 'ivl_end',\n",
       "  'EVALUATE_ACCURACY_ERROR_SOURCES': 'algo_df_continuous',\n",
       "  'EVALUATE_ACCURACY_STREAM_SIZE': '10000000',\n",
       "  'NUM_THREADS': '30',\n",
       "  'DIST_PARAM': '1.500000',\n",
       "  'THETA': '0.000050',\n",
       "  'HEAVY_QUERY_RATE': '5.000000',\n",
       "  'throughput': '335.628113'},\n",
       " {'ALGORITHM': 'cuckoo_heavy_keeper',\n",
       "  'MODE': 'heavy_hitter',\n",
       "  'PARARLLEL_DESIGN': 'GLOBAL_HASHMAP',\n",
       "  'EVALUATE_MODE': 'throughput',\n",
       "  'EVALUATE_ACCURACY_WHEN': 'ivl_end',\n",
       "  'EVALUATE_ACCURACY_ERROR_SOURCES': 'algo_df_continuous',\n",
       "  'EVALUATE_ACCURACY_STREAM_SIZE': '10000000',\n",
       "  'NUM_THREADS': '30',\n",
       "  'DIST_PARAM': '1.500000',\n",
       "  'THETA': '0.000050',\n",
       "  'HEAVY_QUERY_RATE': '10.000000',\n",
       "  'throughput': '269.22525'},\n",
       " {'ALGORITHM': 'cuckoo_heavy_keeper',\n",
       "  'MODE': 'heavy_hitter',\n",
       "  'PARARLLEL_DESIGN': 'GLOBAL_HASHMAP',\n",
       "  'EVALUATE_MODE': 'throughput',\n",
       "  'EVALUATE_ACCURACY_WHEN': 'ivl_end',\n",
       "  'EVALUATE_ACCURACY_ERROR_SOURCES': 'algo_df_continuous',\n",
       "  'EVALUATE_ACCURACY_STREAM_SIZE': '10000000',\n",
       "  'NUM_THREADS': '40',\n",
       "  'DIST_PARAM': '1.500000',\n",
       "  'THETA': '0.000050',\n",
       "  'HEAVY_QUERY_RATE': '0.000000',\n",
       "  'throughput': '761.673401'},\n",
       " {'ALGORITHM': 'cuckoo_heavy_keeper',\n",
       "  'MODE': 'heavy_hitter',\n",
       "  'PARARLLEL_DESIGN': 'GLOBAL_HASHMAP',\n",
       "  'EVALUATE_MODE': 'throughput',\n",
       "  'EVALUATE_ACCURACY_WHEN': 'ivl_end',\n",
       "  'EVALUATE_ACCURACY_ERROR_SOURCES': 'algo_df_continuous',\n",
       "  'EVALUATE_ACCURACY_STREAM_SIZE': '10000000',\n",
       "  'NUM_THREADS': '40',\n",
       "  'DIST_PARAM': '1.500000',\n",
       "  'THETA': '0.000050',\n",
       "  'HEAVY_QUERY_RATE': '1.000000',\n",
       "  'throughput': '672.866333'},\n",
       " {'ALGORITHM': 'cuckoo_heavy_keeper',\n",
       "  'MODE': 'heavy_hitter',\n",
       "  'PARARLLEL_DESIGN': 'GLOBAL_HASHMAP',\n",
       "  'EVALUATE_MODE': 'throughput',\n",
       "  'EVALUATE_ACCURACY_WHEN': 'ivl_end',\n",
       "  'EVALUATE_ACCURACY_ERROR_SOURCES': 'algo_df_continuous',\n",
       "  'EVALUATE_ACCURACY_STREAM_SIZE': '10000000',\n",
       "  'NUM_THREADS': '40',\n",
       "  'DIST_PARAM': '1.500000',\n",
       "  'THETA': '0.000050',\n",
       "  'HEAVY_QUERY_RATE': '5.000000',\n",
       "  'throughput': '494.823883'},\n",
       " {'ALGORITHM': 'cuckoo_heavy_keeper',\n",
       "  'MODE': 'heavy_hitter',\n",
       "  'PARARLLEL_DESIGN': 'GLOBAL_HASHMAP',\n",
       "  'EVALUATE_MODE': 'throughput',\n",
       "  'EVALUATE_ACCURACY_WHEN': 'ivl_end',\n",
       "  'EVALUATE_ACCURACY_ERROR_SOURCES': 'algo_df_continuous',\n",
       "  'EVALUATE_ACCURACY_STREAM_SIZE': '10000000',\n",
       "  'NUM_THREADS': '40',\n",
       "  'DIST_PARAM': '1.500000',\n",
       "  'THETA': '0.000050',\n",
       "  'HEAVY_QUERY_RATE': '10.000000',\n",
       "  'throughput': '376.186218'},\n",
       " {'ALGORITHM': 'cuckoo_heavy_keeper',\n",
       "  'MODE': 'heavy_hitter',\n",
       "  'PARARLLEL_DESIGN': 'GLOBAL_HASHMAP',\n",
       "  'EVALUATE_MODE': 'throughput',\n",
       "  'EVALUATE_ACCURACY_WHEN': 'ivl_end',\n",
       "  'EVALUATE_ACCURACY_ERROR_SOURCES': 'algo_df_continuous',\n",
       "  'EVALUATE_ACCURACY_STREAM_SIZE': '10000000',\n",
       "  'NUM_THREADS': '50',\n",
       "  'DIST_PARAM': '1.500000',\n",
       "  'THETA': '0.000050',\n",
       "  'HEAVY_QUERY_RATE': '0.000000',\n",
       "  'throughput': '961.286499'},\n",
       " {'ALGORITHM': 'cuckoo_heavy_keeper',\n",
       "  'MODE': 'heavy_hitter',\n",
       "  'PARARLLEL_DESIGN': 'GLOBAL_HASHMAP',\n",
       "  'EVALUATE_MODE': 'throughput',\n",
       "  'EVALUATE_ACCURACY_WHEN': 'ivl_end',\n",
       "  'EVALUATE_ACCURACY_ERROR_SOURCES': 'algo_df_continuous',\n",
       "  'EVALUATE_ACCURACY_STREAM_SIZE': '10000000',\n",
       "  'NUM_THREADS': '50',\n",
       "  'DIST_PARAM': '1.500000',\n",
       "  'THETA': '0.000050',\n",
       "  'HEAVY_QUERY_RATE': '1.000000',\n",
       "  'throughput': '805.431396'},\n",
       " {'ALGORITHM': 'cuckoo_heavy_keeper',\n",
       "  'MODE': 'heavy_hitter',\n",
       "  'PARARLLEL_DESIGN': 'GLOBAL_HASHMAP',\n",
       "  'EVALUATE_MODE': 'throughput',\n",
       "  'EVALUATE_ACCURACY_WHEN': 'ivl_end',\n",
       "  'EVALUATE_ACCURACY_ERROR_SOURCES': 'algo_df_continuous',\n",
       "  'EVALUATE_ACCURACY_STREAM_SIZE': '10000000',\n",
       "  'NUM_THREADS': '50',\n",
       "  'DIST_PARAM': '1.500000',\n",
       "  'THETA': '0.000050',\n",
       "  'HEAVY_QUERY_RATE': '5.000000',\n",
       "  'throughput': '565.156799'},\n",
       " {'ALGORITHM': 'cuckoo_heavy_keeper',\n",
       "  'MODE': 'heavy_hitter',\n",
       "  'PARARLLEL_DESIGN': 'GLOBAL_HASHMAP',\n",
       "  'EVALUATE_MODE': 'throughput',\n",
       "  'EVALUATE_ACCURACY_WHEN': 'ivl_end',\n",
       "  'EVALUATE_ACCURACY_ERROR_SOURCES': 'algo_df_continuous',\n",
       "  'EVALUATE_ACCURACY_STREAM_SIZE': '10000000',\n",
       "  'NUM_THREADS': '50',\n",
       "  'DIST_PARAM': '1.500000',\n",
       "  'THETA': '0.000050',\n",
       "  'HEAVY_QUERY_RATE': '10.000000',\n",
       "  'throughput': '429.988373'},\n",
       " {'ALGORITHM': 'cuckoo_heavy_keeper',\n",
       "  'MODE': 'heavy_hitter',\n",
       "  'PARARLLEL_DESIGN': 'GLOBAL_HASHMAP',\n",
       "  'EVALUATE_MODE': 'throughput',\n",
       "  'EVALUATE_ACCURACY_WHEN': 'ivl_end',\n",
       "  'EVALUATE_ACCURACY_ERROR_SOURCES': 'algo_df_continuous',\n",
       "  'EVALUATE_ACCURACY_STREAM_SIZE': '10000000',\n",
       "  'NUM_THREADS': '60',\n",
       "  'DIST_PARAM': '1.500000',\n",
       "  'THETA': '0.000050',\n",
       "  'HEAVY_QUERY_RATE': '0.000000',\n",
       "  'throughput': '1167.330078'},\n",
       " {'ALGORITHM': 'cuckoo_heavy_keeper',\n",
       "  'MODE': 'heavy_hitter',\n",
       "  'PARARLLEL_DESIGN': 'GLOBAL_HASHMAP',\n",
       "  'EVALUATE_MODE': 'throughput',\n",
       "  'EVALUATE_ACCURACY_WHEN': 'ivl_end',\n",
       "  'EVALUATE_ACCURACY_ERROR_SOURCES': 'algo_df_continuous',\n",
       "  'EVALUATE_ACCURACY_STREAM_SIZE': '10000000',\n",
       "  'NUM_THREADS': '60',\n",
       "  'DIST_PARAM': '1.500000',\n",
       "  'THETA': '0.000050',\n",
       "  'HEAVY_QUERY_RATE': '1.000000',\n",
       "  'throughput': '923.572327'},\n",
       " {'ALGORITHM': 'cuckoo_heavy_keeper',\n",
       "  'MODE': 'heavy_hitter',\n",
       "  'PARARLLEL_DESIGN': 'GLOBAL_HASHMAP',\n",
       "  'EVALUATE_MODE': 'throughput',\n",
       "  'EVALUATE_ACCURACY_WHEN': 'ivl_end',\n",
       "  'EVALUATE_ACCURACY_ERROR_SOURCES': 'algo_df_continuous',\n",
       "  'EVALUATE_ACCURACY_STREAM_SIZE': '10000000',\n",
       "  'NUM_THREADS': '60',\n",
       "  'DIST_PARAM': '1.500000',\n",
       "  'THETA': '0.000050',\n",
       "  'HEAVY_QUERY_RATE': '5.000000',\n",
       "  'throughput': '641.409607'},\n",
       " {'ALGORITHM': 'cuckoo_heavy_keeper',\n",
       "  'MODE': 'heavy_hitter',\n",
       "  'PARARLLEL_DESIGN': 'GLOBAL_HASHMAP',\n",
       "  'EVALUATE_MODE': 'throughput',\n",
       "  'EVALUATE_ACCURACY_WHEN': 'ivl_end',\n",
       "  'EVALUATE_ACCURACY_ERROR_SOURCES': 'algo_df_continuous',\n",
       "  'EVALUATE_ACCURACY_STREAM_SIZE': '10000000',\n",
       "  'NUM_THREADS': '60',\n",
       "  'DIST_PARAM': '1.500000',\n",
       "  'THETA': '0.000050',\n",
       "  'HEAVY_QUERY_RATE': '10.000000',\n",
       "  'throughput': '465.095551'},\n",
       " {'ALGORITHM': 'cuckoo_heavy_keeper',\n",
       "  'MODE': 'heavy_hitter',\n",
       "  'PARARLLEL_DESIGN': 'GLOBAL_HASHMAP',\n",
       "  'EVALUATE_MODE': 'throughput',\n",
       "  'EVALUATE_ACCURACY_WHEN': 'ivl_end',\n",
       "  'EVALUATE_ACCURACY_ERROR_SOURCES': 'algo_df_continuous',\n",
       "  'EVALUATE_ACCURACY_STREAM_SIZE': '10000000',\n",
       "  'NUM_THREADS': '70',\n",
       "  'DIST_PARAM': '1.500000',\n",
       "  'THETA': '0.000050',\n",
       "  'HEAVY_QUERY_RATE': '0.000000',\n",
       "  'throughput': '1290.262939'},\n",
       " {'ALGORITHM': 'cuckoo_heavy_keeper',\n",
       "  'MODE': 'heavy_hitter',\n",
       "  'PARARLLEL_DESIGN': 'GLOBAL_HASHMAP',\n",
       "  'EVALUATE_MODE': 'throughput',\n",
       "  'EVALUATE_ACCURACY_WHEN': 'ivl_end',\n",
       "  'EVALUATE_ACCURACY_ERROR_SOURCES': 'algo_df_continuous',\n",
       "  'EVALUATE_ACCURACY_STREAM_SIZE': '10000000',\n",
       "  'NUM_THREADS': '70',\n",
       "  'DIST_PARAM': '1.500000',\n",
       "  'THETA': '0.000050',\n",
       "  'HEAVY_QUERY_RATE': '1.000000',\n",
       "  'throughput': '857.023315'},\n",
       " {'ALGORITHM': 'cuckoo_heavy_keeper',\n",
       "  'MODE': 'heavy_hitter',\n",
       "  'PARARLLEL_DESIGN': 'GLOBAL_HASHMAP',\n",
       "  'EVALUATE_MODE': 'throughput',\n",
       "  'EVALUATE_ACCURACY_WHEN': 'ivl_end',\n",
       "  'EVALUATE_ACCURACY_ERROR_SOURCES': 'algo_df_continuous',\n",
       "  'EVALUATE_ACCURACY_STREAM_SIZE': '10000000',\n",
       "  'NUM_THREADS': '70',\n",
       "  'DIST_PARAM': '1.500000',\n",
       "  'THETA': '0.000050',\n",
       "  'HEAVY_QUERY_RATE': '5.000000',\n",
       "  'throughput': '534.393738'},\n",
       " {'ALGORITHM': 'cuckoo_heavy_keeper',\n",
       "  'MODE': 'heavy_hitter',\n",
       "  'PARARLLEL_DESIGN': 'GLOBAL_HASHMAP',\n",
       "  'EVALUATE_MODE': 'throughput',\n",
       "  'EVALUATE_ACCURACY_WHEN': 'ivl_end',\n",
       "  'EVALUATE_ACCURACY_ERROR_SOURCES': 'algo_df_continuous',\n",
       "  'EVALUATE_ACCURACY_STREAM_SIZE': '10000000',\n",
       "  'NUM_THREADS': '70',\n",
       "  'DIST_PARAM': '1.500000',\n",
       "  'THETA': '0.000050',\n",
       "  'HEAVY_QUERY_RATE': '10.000000',\n",
       "  'throughput': '516.519958'},\n",
       " {'ALGORITHM': 'cuckoo_heavy_keeper',\n",
       "  'MODE': 'heavy_hitter',\n",
       "  'PARARLLEL_DESIGN': 'QPOPSS',\n",
       "  'EVALUATE_MODE': 'throughput',\n",
       "  'EVALUATE_ACCURACY_WHEN': 'ivl_end',\n",
       "  'EVALUATE_ACCURACY_ERROR_SOURCES': 'algo_df_continuous',\n",
       "  'EVALUATE_ACCURACY_STREAM_SIZE': '10000000',\n",
       "  'NUM_THREADS': '10',\n",
       "  'DIST_PARAM': '1.500000',\n",
       "  'THETA': '0.000050',\n",
       "  'HEAVY_QUERY_RATE': '0.000000',\n",
       "  'throughput': '116.302307'},\n",
       " {'ALGORITHM': 'cuckoo_heavy_keeper',\n",
       "  'MODE': 'heavy_hitter',\n",
       "  'PARARLLEL_DESIGN': 'QPOPSS',\n",
       "  'EVALUATE_MODE': 'throughput',\n",
       "  'EVALUATE_ACCURACY_WHEN': 'ivl_end',\n",
       "  'EVALUATE_ACCURACY_ERROR_SOURCES': 'algo_df_continuous',\n",
       "  'EVALUATE_ACCURACY_STREAM_SIZE': '10000000',\n",
       "  'NUM_THREADS': '10',\n",
       "  'DIST_PARAM': '1.500000',\n",
       "  'THETA': '0.000050',\n",
       "  'HEAVY_QUERY_RATE': '1.000000',\n",
       "  'throughput': '93.658997'},\n",
       " {'ALGORITHM': 'cuckoo_heavy_keeper',\n",
       "  'MODE': 'heavy_hitter',\n",
       "  'PARARLLEL_DESIGN': 'QPOPSS',\n",
       "  'EVALUATE_MODE': 'throughput',\n",
       "  'EVALUATE_ACCURACY_WHEN': 'ivl_end',\n",
       "  'EVALUATE_ACCURACY_ERROR_SOURCES': 'algo_df_continuous',\n",
       "  'EVALUATE_ACCURACY_STREAM_SIZE': '10000000',\n",
       "  'NUM_THREADS': '10',\n",
       "  'DIST_PARAM': '1.500000',\n",
       "  'THETA': '0.000050',\n",
       "  'HEAVY_QUERY_RATE': '5.000000',\n",
       "  'throughput': '68.749199'},\n",
       " {'ALGORITHM': 'cuckoo_heavy_keeper',\n",
       "  'MODE': 'heavy_hitter',\n",
       "  'PARARLLEL_DESIGN': 'QPOPSS',\n",
       "  'EVALUATE_MODE': 'throughput',\n",
       "  'EVALUATE_ACCURACY_WHEN': 'ivl_end',\n",
       "  'EVALUATE_ACCURACY_ERROR_SOURCES': 'algo_df_continuous',\n",
       "  'EVALUATE_ACCURACY_STREAM_SIZE': '10000000',\n",
       "  'NUM_THREADS': '10',\n",
       "  'DIST_PARAM': '1.500000',\n",
       "  'THETA': '0.000050',\n",
       "  'HEAVY_QUERY_RATE': '10.000000',\n",
       "  'throughput': '54.28817'},\n",
       " {'ALGORITHM': 'cuckoo_heavy_keeper',\n",
       "  'MODE': 'heavy_hitter',\n",
       "  'PARARLLEL_DESIGN': 'QPOPSS',\n",
       "  'EVALUATE_MODE': 'throughput',\n",
       "  'EVALUATE_ACCURACY_WHEN': 'ivl_end',\n",
       "  'EVALUATE_ACCURACY_ERROR_SOURCES': 'algo_df_continuous',\n",
       "  'EVALUATE_ACCURACY_STREAM_SIZE': '10000000',\n",
       "  'NUM_THREADS': '20',\n",
       "  'DIST_PARAM': '1.500000',\n",
       "  'THETA': '0.000050',\n",
       "  'HEAVY_QUERY_RATE': '0.000000',\n",
       "  'throughput': '348.395264'},\n",
       " {'ALGORITHM': 'cuckoo_heavy_keeper',\n",
       "  'MODE': 'heavy_hitter',\n",
       "  'PARARLLEL_DESIGN': 'QPOPSS',\n",
       "  'EVALUATE_MODE': 'throughput',\n",
       "  'EVALUATE_ACCURACY_WHEN': 'ivl_end',\n",
       "  'EVALUATE_ACCURACY_ERROR_SOURCES': 'algo_df_continuous',\n",
       "  'EVALUATE_ACCURACY_STREAM_SIZE': '10000000',\n",
       "  'NUM_THREADS': '20',\n",
       "  'DIST_PARAM': '1.500000',\n",
       "  'THETA': '0.000050',\n",
       "  'HEAVY_QUERY_RATE': '1.000000',\n",
       "  'throughput': '246.775833'},\n",
       " {'ALGORITHM': 'cuckoo_heavy_keeper',\n",
       "  'MODE': 'heavy_hitter',\n",
       "  'PARARLLEL_DESIGN': 'QPOPSS',\n",
       "  'EVALUATE_MODE': 'throughput',\n",
       "  'EVALUATE_ACCURACY_WHEN': 'ivl_end',\n",
       "  'EVALUATE_ACCURACY_ERROR_SOURCES': 'algo_df_continuous',\n",
       "  'EVALUATE_ACCURACY_STREAM_SIZE': '10000000',\n",
       "  'NUM_THREADS': '20',\n",
       "  'DIST_PARAM': '1.500000',\n",
       "  'THETA': '0.000050',\n",
       "  'HEAVY_QUERY_RATE': '5.000000',\n",
       "  'throughput': '150.483276'},\n",
       " {'ALGORITHM': 'cuckoo_heavy_keeper',\n",
       "  'MODE': 'heavy_hitter',\n",
       "  'PARARLLEL_DESIGN': 'QPOPSS',\n",
       "  'EVALUATE_MODE': 'throughput',\n",
       "  'EVALUATE_ACCURACY_WHEN': 'ivl_end',\n",
       "  'EVALUATE_ACCURACY_ERROR_SOURCES': 'algo_df_continuous',\n",
       "  'EVALUATE_ACCURACY_STREAM_SIZE': '10000000',\n",
       "  'NUM_THREADS': '20',\n",
       "  'DIST_PARAM': '1.500000',\n",
       "  'THETA': '0.000050',\n",
       "  'HEAVY_QUERY_RATE': '10.000000',\n",
       "  'throughput': '106.529861'},\n",
       " {'ALGORITHM': 'cuckoo_heavy_keeper',\n",
       "  'MODE': 'heavy_hitter',\n",
       "  'PARARLLEL_DESIGN': 'QPOPSS',\n",
       "  'EVALUATE_MODE': 'throughput',\n",
       "  'EVALUATE_ACCURACY_WHEN': 'ivl_end',\n",
       "  'EVALUATE_ACCURACY_ERROR_SOURCES': 'algo_df_continuous',\n",
       "  'EVALUATE_ACCURACY_STREAM_SIZE': '10000000',\n",
       "  'NUM_THREADS': '30',\n",
       "  'DIST_PARAM': '1.500000',\n",
       "  'THETA': '0.000050',\n",
       "  'HEAVY_QUERY_RATE': '0.000000',\n",
       "  'throughput': '632.400757'},\n",
       " {'ALGORITHM': 'cuckoo_heavy_keeper',\n",
       "  'MODE': 'heavy_hitter',\n",
       "  'PARARLLEL_DESIGN': 'QPOPSS',\n",
       "  'EVALUATE_MODE': 'throughput',\n",
       "  'EVALUATE_ACCURACY_WHEN': 'ivl_end',\n",
       "  'EVALUATE_ACCURACY_ERROR_SOURCES': 'algo_df_continuous',\n",
       "  'EVALUATE_ACCURACY_STREAM_SIZE': '10000000',\n",
       "  'NUM_THREADS': '30',\n",
       "  'DIST_PARAM': '1.500000',\n",
       "  'THETA': '0.000050',\n",
       "  'HEAVY_QUERY_RATE': '1.000000',\n",
       "  'throughput': '377.246582'},\n",
       " {'ALGORITHM': 'cuckoo_heavy_keeper',\n",
       "  'MODE': 'heavy_hitter',\n",
       "  'PARARLLEL_DESIGN': 'QPOPSS',\n",
       "  'EVALUATE_MODE': 'throughput',\n",
       "  'EVALUATE_ACCURACY_WHEN': 'ivl_end',\n",
       "  'EVALUATE_ACCURACY_ERROR_SOURCES': 'algo_df_continuous',\n",
       "  'EVALUATE_ACCURACY_STREAM_SIZE': '10000000',\n",
       "  'NUM_THREADS': '30',\n",
       "  'DIST_PARAM': '1.500000',\n",
       "  'THETA': '0.000050',\n",
       "  'HEAVY_QUERY_RATE': '5.000000',\n",
       "  'throughput': '214.552399'},\n",
       " {'ALGORITHM': 'cuckoo_heavy_keeper',\n",
       "  'MODE': 'heavy_hitter',\n",
       "  'PARARLLEL_DESIGN': 'QPOPSS',\n",
       "  'EVALUATE_MODE': 'throughput',\n",
       "  'EVALUATE_ACCURACY_WHEN': 'ivl_end',\n",
       "  'EVALUATE_ACCURACY_ERROR_SOURCES': 'algo_df_continuous',\n",
       "  'EVALUATE_ACCURACY_STREAM_SIZE': '10000000',\n",
       "  'NUM_THREADS': '30',\n",
       "  'DIST_PARAM': '1.500000',\n",
       "  'THETA': '0.000050',\n",
       "  'HEAVY_QUERY_RATE': '10.000000',\n",
       "  'throughput': '137.416656'},\n",
       " {'ALGORITHM': 'cuckoo_heavy_keeper',\n",
       "  'MODE': 'heavy_hitter',\n",
       "  'PARARLLEL_DESIGN': 'QPOPSS',\n",
       "  'EVALUATE_MODE': 'throughput',\n",
       "  'EVALUATE_ACCURACY_WHEN': 'ivl_end',\n",
       "  'EVALUATE_ACCURACY_ERROR_SOURCES': 'algo_df_continuous',\n",
       "  'EVALUATE_ACCURACY_STREAM_SIZE': '10000000',\n",
       "  'NUM_THREADS': '40',\n",
       "  'DIST_PARAM': '1.500000',\n",
       "  'THETA': '0.000050',\n",
       "  'HEAVY_QUERY_RATE': '0.000000',\n",
       "  'throughput': '926.664185'},\n",
       " {'ALGORITHM': 'cuckoo_heavy_keeper',\n",
       "  'MODE': 'heavy_hitter',\n",
       "  'PARARLLEL_DESIGN': 'QPOPSS',\n",
       "  'EVALUATE_MODE': 'throughput',\n",
       "  'EVALUATE_ACCURACY_WHEN': 'ivl_end',\n",
       "  'EVALUATE_ACCURACY_ERROR_SOURCES': 'algo_df_continuous',\n",
       "  'EVALUATE_ACCURACY_STREAM_SIZE': '10000000',\n",
       "  'NUM_THREADS': '40',\n",
       "  'DIST_PARAM': '1.500000',\n",
       "  'THETA': '0.000050',\n",
       "  'HEAVY_QUERY_RATE': '1.000000',\n",
       "  'throughput': '518.751221'},\n",
       " {'ALGORITHM': 'cuckoo_heavy_keeper',\n",
       "  'MODE': 'heavy_hitter',\n",
       "  'PARARLLEL_DESIGN': 'QPOPSS',\n",
       "  'EVALUATE_MODE': 'throughput',\n",
       "  'EVALUATE_ACCURACY_WHEN': 'ivl_end',\n",
       "  'EVALUATE_ACCURACY_ERROR_SOURCES': 'algo_df_continuous',\n",
       "  'EVALUATE_ACCURACY_STREAM_SIZE': '10000000',\n",
       "  'NUM_THREADS': '40',\n",
       "  'DIST_PARAM': '1.500000',\n",
       "  'THETA': '0.000050',\n",
       "  'HEAVY_QUERY_RATE': '5.000000',\n",
       "  'throughput': '258.028992'},\n",
       " {'ALGORITHM': 'cuckoo_heavy_keeper',\n",
       "  'MODE': 'heavy_hitter',\n",
       "  'PARARLLEL_DESIGN': 'QPOPSS',\n",
       "  'EVALUATE_MODE': 'throughput',\n",
       "  'EVALUATE_ACCURACY_WHEN': 'ivl_end',\n",
       "  'EVALUATE_ACCURACY_ERROR_SOURCES': 'algo_df_continuous',\n",
       "  'EVALUATE_ACCURACY_STREAM_SIZE': '10000000',\n",
       "  'NUM_THREADS': '40',\n",
       "  'DIST_PARAM': '1.500000',\n",
       "  'THETA': '0.000050',\n",
       "  'HEAVY_QUERY_RATE': '10.000000',\n",
       "  'throughput': '159.79158'},\n",
       " {'ALGORITHM': 'cuckoo_heavy_keeper',\n",
       "  'MODE': 'heavy_hitter',\n",
       "  'PARARLLEL_DESIGN': 'QPOPSS',\n",
       "  'EVALUATE_MODE': 'throughput',\n",
       "  'EVALUATE_ACCURACY_WHEN': 'ivl_end',\n",
       "  'EVALUATE_ACCURACY_ERROR_SOURCES': 'algo_df_continuous',\n",
       "  'EVALUATE_ACCURACY_STREAM_SIZE': '10000000',\n",
       "  'NUM_THREADS': '50',\n",
       "  'DIST_PARAM': '1.500000',\n",
       "  'THETA': '0.000050',\n",
       "  'HEAVY_QUERY_RATE': '0.000000',\n",
       "  'throughput': '1066.085205'},\n",
       " {'ALGORITHM': 'cuckoo_heavy_keeper',\n",
       "  'MODE': 'heavy_hitter',\n",
       "  'PARARLLEL_DESIGN': 'QPOPSS',\n",
       "  'EVALUATE_MODE': 'throughput',\n",
       "  'EVALUATE_ACCURACY_WHEN': 'ivl_end',\n",
       "  'EVALUATE_ACCURACY_ERROR_SOURCES': 'algo_df_continuous',\n",
       "  'EVALUATE_ACCURACY_STREAM_SIZE': '10000000',\n",
       "  'NUM_THREADS': '50',\n",
       "  'DIST_PARAM': '1.500000',\n",
       "  'THETA': '0.000050',\n",
       "  'HEAVY_QUERY_RATE': '1.000000',\n",
       "  'throughput': '547.350525'},\n",
       " {'ALGORITHM': 'cuckoo_heavy_keeper',\n",
       "  'MODE': 'heavy_hitter',\n",
       "  'PARARLLEL_DESIGN': 'QPOPSS',\n",
       "  'EVALUATE_MODE': 'throughput',\n",
       "  'EVALUATE_ACCURACY_WHEN': 'ivl_end',\n",
       "  'EVALUATE_ACCURACY_ERROR_SOURCES': 'algo_df_continuous',\n",
       "  'EVALUATE_ACCURACY_STREAM_SIZE': '10000000',\n",
       "  'NUM_THREADS': '50',\n",
       "  'DIST_PARAM': '1.500000',\n",
       "  'THETA': '0.000050',\n",
       "  'HEAVY_QUERY_RATE': '5.000000',\n",
       "  'throughput': '267.093292'},\n",
       " {'ALGORITHM': 'cuckoo_heavy_keeper',\n",
       "  'MODE': 'heavy_hitter',\n",
       "  'PARARLLEL_DESIGN': 'QPOPSS',\n",
       "  'EVALUATE_MODE': 'throughput',\n",
       "  'EVALUATE_ACCURACY_WHEN': 'ivl_end',\n",
       "  'EVALUATE_ACCURACY_ERROR_SOURCES': 'algo_df_continuous',\n",
       "  'EVALUATE_ACCURACY_STREAM_SIZE': '10000000',\n",
       "  'NUM_THREADS': '50',\n",
       "  'DIST_PARAM': '1.500000',\n",
       "  'THETA': '0.000050',\n",
       "  'HEAVY_QUERY_RATE': '10.000000',\n",
       "  'throughput': '173.787338'},\n",
       " {'ALGORITHM': 'cuckoo_heavy_keeper',\n",
       "  'MODE': 'heavy_hitter',\n",
       "  'PARARLLEL_DESIGN': 'QPOPSS',\n",
       "  'EVALUATE_MODE': 'throughput',\n",
       "  'EVALUATE_ACCURACY_WHEN': 'ivl_end',\n",
       "  'EVALUATE_ACCURACY_ERROR_SOURCES': 'algo_df_continuous',\n",
       "  'EVALUATE_ACCURACY_STREAM_SIZE': '10000000',\n",
       "  'NUM_THREADS': '60',\n",
       "  'DIST_PARAM': '1.500000',\n",
       "  'THETA': '0.000050',\n",
       "  'HEAVY_QUERY_RATE': '0.000000',\n",
       "  'throughput': '1249.987427'},\n",
       " {'ALGORITHM': 'cuckoo_heavy_keeper',\n",
       "  'MODE': 'heavy_hitter',\n",
       "  'PARARLLEL_DESIGN': 'QPOPSS',\n",
       "  'EVALUATE_MODE': 'throughput',\n",
       "  'EVALUATE_ACCURACY_WHEN': 'ivl_end',\n",
       "  'EVALUATE_ACCURACY_ERROR_SOURCES': 'algo_df_continuous',\n",
       "  'EVALUATE_ACCURACY_STREAM_SIZE': '10000000',\n",
       "  'NUM_THREADS': '60',\n",
       "  'DIST_PARAM': '1.500000',\n",
       "  'THETA': '0.000050',\n",
       "  'HEAVY_QUERY_RATE': '1.000000',\n",
       "  'throughput': '659.433472'},\n",
       " {'ALGORITHM': 'cuckoo_heavy_keeper',\n",
       "  'MODE': 'heavy_hitter',\n",
       "  'PARARLLEL_DESIGN': 'QPOPSS',\n",
       "  'EVALUATE_MODE': 'throughput',\n",
       "  'EVALUATE_ACCURACY_WHEN': 'ivl_end',\n",
       "  'EVALUATE_ACCURACY_ERROR_SOURCES': 'algo_df_continuous',\n",
       "  'EVALUATE_ACCURACY_STREAM_SIZE': '10000000',\n",
       "  'NUM_THREADS': '60',\n",
       "  'DIST_PARAM': '1.500000',\n",
       "  'THETA': '0.000050',\n",
       "  'HEAVY_QUERY_RATE': '5.000000',\n",
       "  'throughput': '305.578613'},\n",
       " {'ALGORITHM': 'cuckoo_heavy_keeper',\n",
       "  'MODE': 'heavy_hitter',\n",
       "  'PARARLLEL_DESIGN': 'QPOPSS',\n",
       "  'EVALUATE_MODE': 'throughput',\n",
       "  'EVALUATE_ACCURACY_WHEN': 'ivl_end',\n",
       "  'EVALUATE_ACCURACY_ERROR_SOURCES': 'algo_df_continuous',\n",
       "  'EVALUATE_ACCURACY_STREAM_SIZE': '10000000',\n",
       "  'NUM_THREADS': '60',\n",
       "  'DIST_PARAM': '1.500000',\n",
       "  'THETA': '0.000050',\n",
       "  'HEAVY_QUERY_RATE': '10.000000',\n",
       "  'throughput': '191.037903'},\n",
       " {'ALGORITHM': 'cuckoo_heavy_keeper',\n",
       "  'MODE': 'heavy_hitter',\n",
       "  'PARARLLEL_DESIGN': 'QPOPSS',\n",
       "  'EVALUATE_MODE': 'throughput',\n",
       "  'EVALUATE_ACCURACY_WHEN': 'ivl_end',\n",
       "  'EVALUATE_ACCURACY_ERROR_SOURCES': 'algo_df_continuous',\n",
       "  'EVALUATE_ACCURACY_STREAM_SIZE': '10000000',\n",
       "  'NUM_THREADS': '70',\n",
       "  'DIST_PARAM': '1.500000',\n",
       "  'THETA': '0.000050',\n",
       "  'HEAVY_QUERY_RATE': '0.000000',\n",
       "  'throughput': '1362.340698'},\n",
       " {'ALGORITHM': 'cuckoo_heavy_keeper',\n",
       "  'MODE': 'heavy_hitter',\n",
       "  'PARARLLEL_DESIGN': 'QPOPSS',\n",
       "  'EVALUATE_MODE': 'throughput',\n",
       "  'EVALUATE_ACCURACY_WHEN': 'ivl_end',\n",
       "  'EVALUATE_ACCURACY_ERROR_SOURCES': 'algo_df_continuous',\n",
       "  'EVALUATE_ACCURACY_STREAM_SIZE': '10000000',\n",
       "  'NUM_THREADS': '70',\n",
       "  'DIST_PARAM': '1.500000',\n",
       "  'THETA': '0.000050',\n",
       "  'HEAVY_QUERY_RATE': '1.000000',\n",
       "  'throughput': '652.963257'},\n",
       " {'ALGORITHM': 'cuckoo_heavy_keeper',\n",
       "  'MODE': 'heavy_hitter',\n",
       "  'PARARLLEL_DESIGN': 'QPOPSS',\n",
       "  'EVALUATE_MODE': 'throughput',\n",
       "  'EVALUATE_ACCURACY_WHEN': 'ivl_end',\n",
       "  'EVALUATE_ACCURACY_ERROR_SOURCES': 'algo_df_continuous',\n",
       "  'EVALUATE_ACCURACY_STREAM_SIZE': '10000000',\n",
       "  'NUM_THREADS': '70',\n",
       "  'DIST_PARAM': '1.500000',\n",
       "  'THETA': '0.000050',\n",
       "  'HEAVY_QUERY_RATE': '5.000000',\n",
       "  'throughput': '294.028442'},\n",
       " {'ALGORITHM': 'cuckoo_heavy_keeper',\n",
       "  'MODE': 'heavy_hitter',\n",
       "  'PARARLLEL_DESIGN': 'QPOPSS',\n",
       "  'EVALUATE_MODE': 'throughput',\n",
       "  'EVALUATE_ACCURACY_WHEN': 'ivl_end',\n",
       "  'EVALUATE_ACCURACY_ERROR_SOURCES': 'algo_df_continuous',\n",
       "  'EVALUATE_ACCURACY_STREAM_SIZE': '10000000',\n",
       "  'NUM_THREADS': '70',\n",
       "  'DIST_PARAM': '1.500000',\n",
       "  'THETA': '0.000050',\n",
       "  'HEAVY_QUERY_RATE': '10.000000',\n",
       "  'throughput': '174.147354'}]"
      ]
     },
     "execution_count": 13,
     "metadata": {},
     "output_type": "execute_result"
    }
   ],
   "source": [
    "results"
   ]
  }
 ],
 "metadata": {
  "kernelspec": {
   "display_name": "pyvenv",
   "language": "python",
   "name": "python3"
  },
  "language_info": {
   "codemirror_mode": {
    "name": "ipython",
    "version": 3
   },
   "file_extension": ".py",
   "mimetype": "text/x-python",
   "name": "python",
   "nbconvert_exporter": "python",
   "pygments_lexer": "ipython3",
   "version": "3.11.9"
  }
 },
 "nbformat": 4,
 "nbformat_minor": 2
}
